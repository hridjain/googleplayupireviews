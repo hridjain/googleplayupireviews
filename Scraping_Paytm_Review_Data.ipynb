{
  "nbformat": 4,
  "nbformat_minor": 0,
  "metadata": {
    "colab": {
      "provenance": []
    },
    "kernelspec": {
      "name": "python3",
      "display_name": "Python 3"
    },
    "language_info": {
      "name": "python"
    }
  },
  "cells": [
    {
      "cell_type": "code",
      "execution_count": null,
      "metadata": {
        "colab": {
          "base_uri": "https://localhost:8080/"
        },
        "id": "6TVHfRr904_x",
        "outputId": "50df981e-a11c-4da8-9304-3c07d309f8dd"
      },
      "outputs": [
        {
          "output_type": "stream",
          "name": "stdout",
          "text": [
            "Collecting google-play-scraper\n",
            "  Downloading google_play_scraper-1.2.4-py3-none-any.whl (28 kB)\n",
            "Installing collected packages: google-play-scraper\n",
            "Successfully installed google-play-scraper-1.2.4\n"
          ]
        }
      ],
      "source": [
        "pip install google-play-scraper\n"
      ]
    },
    {
      "cell_type": "code",
      "source": [
        "from google_play_scraper import app\n",
        "\n",
        "import pandas as pd\n",
        "\n",
        "import numpy as np"
      ],
      "metadata": {
        "id": "uNtgyGDk1oJN"
      },
      "execution_count": null,
      "outputs": []
    },
    {
      "cell_type": "markdown",
      "source": [
        "latest 20000 reviews"
      ],
      "metadata": {
        "id": "vXqFaRk6GDwh"
      }
    },
    {
      "cell_type": "code",
      "source": [
        "from google_play_scraper import Sort, reviews\n",
        "\n",
        "result, continuation_token = reviews(\n",
        "    'net.one97.paytm',\n",
        "    lang='en', # defaults to 'en'\n",
        "    country='in', # defaults to 'us'\n",
        "    sort=Sort.NEWEST, # defaults to Sort.NEWEST\n",
        "    count=20000, # defaults to 100\n",
        "\n",
        ")"
      ],
      "metadata": {
        "id": "h2qYHdNz1uRc"
      },
      "execution_count": null,
      "outputs": []
    },
    {
      "cell_type": "markdown",
      "source": [
        "next 20000 latest reviews"
      ],
      "metadata": {
        "id": "C9FnuCOQGKCE"
      }
    },
    {
      "cell_type": "code",
      "source": [
        "\n",
        "resultnext, continuation_token = reviews(\n",
        "    'net.one97.paytm',\n",
        "    lang='en', # defaults to 'en'\n",
        "    country='in', # defaults to 'us'\n",
        "    sort=Sort.NEWEST, # defaults to Sort.NEWEST\n",
        "    count=20000, # defaults to 100\n",
        "\n",
        ")\n",
        "resultnext, _ = reviews(\n",
        "    'net.one97.paytm',\n",
        "    continuation_token=continuation_token # defaults to None(load from the beginning)\n",
        ")"
      ],
      "metadata": {
        "id": "Zs87HBbPPohC"
      },
      "execution_count": null,
      "outputs": []
    },
    {
      "cell_type": "code",
      "source": [
        "paytm_new = result + resultnext"
      ],
      "metadata": {
        "id": "6QwhEl5aPiF4"
      },
      "execution_count": null,
      "outputs": []
    },
    {
      "cell_type": "markdown",
      "source": [
        "Making DataFrame, Setting index and exporting as csv"
      ],
      "metadata": {
        "id": "I1BaXgiwNauC"
      }
    },
    {
      "cell_type": "code",
      "source": [
        "db_paytm_new = pd.DataFrame(paytm_new)\n",
        "db_paytm_new = db_paytm_new.set_index('reviewId')\n",
        "db_paytm_new.head()\n"
      ],
      "metadata": {
        "id": "365GMwNfWhBO"
      },
      "execution_count": null,
      "outputs": []
    },
    {
      "cell_type": "code",
      "source": [
        "\n",
        "helpful, continuation_token = reviews(\n",
        "    'net.one97.paytm',\n",
        "    lang='en', # defaults to 'en'\n",
        "    country='in', # defaults to 'us'\n",
        "    sort=Sort.MOST_RELEVANT, # defaults to Sort.NEWEST\n",
        "    count=20000, # defaults to 100\n",
        "\n",
        ")"
      ],
      "metadata": {
        "id": "bdD6DfaXKFeb"
      },
      "execution_count": null,
      "outputs": []
    },
    {
      "cell_type": "code",
      "source": [
        "\n",
        "helpfulnext, continuation_token = reviews(\n",
        "    'net.one97.paytm',\n",
        "    lang='en', # defaults to 'en'\n",
        "    country='in', # defaults to 'us'\n",
        "    sort=Sort.MOST_RELEVANT, # defaults to Sort.NEWEST\n",
        "    count=20000, # defaults to 100\n",
        "\n",
        ")\n",
        "helpfulnext, _ = reviews(\n",
        "    'net.one97.paytm',\n",
        "    continuation_token=continuation_token # defaults to None(load from the beginning)\n",
        ")"
      ],
      "metadata": {
        "id": "Zi5yODQEP8t_"
      },
      "execution_count": null,
      "outputs": []
    },
    {
      "cell_type": "code",
      "source": [
        "paytm_helpful = helpful + helpfulnext"
      ],
      "metadata": {
        "id": "kHbh5jMpQwVU"
      },
      "execution_count": null,
      "outputs": []
    },
    {
      "cell_type": "code",
      "source": [
        "db_paytm_help = pd.DataFrame(paytm_helpful)\n",
        "db_paytm_help = db_paytm_help.set_index('reviewId')\n",
        "db_paytm_help.head()\n"
      ],
      "metadata": {
        "colab": {
          "base_uri": "https://localhost:8080/",
          "height": 579
        },
        "id": "pLRN9VzEQ3vC",
        "outputId": "08589671-6840-4d7b-e3b2-4c55a1a84c15"
      },
      "execution_count": null,
      "outputs": [
        {
          "output_type": "execute_result",
          "data": {
            "text/plain": [
              "                                              userName  \\\n",
              "reviewId                                                 \n",
              "60df685b-c310-481a-b1a5-94cad1a3c335        Raj Nandha   \n",
              "f5edb45a-2dd8-4171-a106-656bc547fafa         Namrata M   \n",
              "3fcb31f2-9c25-48cc-b7a4-d199778ba010  Moh'd Saif Ullah   \n",
              "419c9c09-09c1-468b-8fe5-162d6d06007c       John Vankal   \n",
              "ce63efba-dd25-4c35-b610-60a85a79e3ca    Yogesh Hablani   \n",
              "\n",
              "                                                                              userImage  \\\n",
              "reviewId                                                                                  \n",
              "60df685b-c310-481a-b1a5-94cad1a3c335  https://play-lh.googleusercontent.com/a-/AD_cM...   \n",
              "f5edb45a-2dd8-4171-a106-656bc547fafa  https://play-lh.googleusercontent.com/a/AAcHTt...   \n",
              "3fcb31f2-9c25-48cc-b7a4-d199778ba010  https://play-lh.googleusercontent.com/a-/AD_cM...   \n",
              "419c9c09-09c1-468b-8fe5-162d6d06007c  https://play-lh.googleusercontent.com/a-/AD_cM...   \n",
              "ce63efba-dd25-4c35-b610-60a85a79e3ca  https://play-lh.googleusercontent.com/a/AAcHTt...   \n",
              "\n",
              "                                                                                content  \\\n",
              "reviewId                                                                                  \n",
              "60df685b-c310-481a-b1a5-94cad1a3c335  Paytm's user interface (UI) is a disappointing...   \n",
              "f5edb45a-2dd8-4171-a106-656bc547fafa  I have been auto logged out from Paytm and I'm...   \n",
              "3fcb31f2-9c25-48cc-b7a4-d199778ba010  Update: As requested contacted the developers ...   \n",
              "419c9c09-09c1-468b-8fe5-162d6d06007c  if you use a rooted phone, don't update it. (t...   \n",
              "ce63efba-dd25-4c35-b610-60a85a79e3ca  When the app works property it's a good experi...   \n",
              "\n",
              "                                      score  thumbsUpCount  \\\n",
              "reviewId                                                     \n",
              "60df685b-c310-481a-b1a5-94cad1a3c335      1           1783   \n",
              "f5edb45a-2dd8-4171-a106-656bc547fafa      2           3209   \n",
              "3fcb31f2-9c25-48cc-b7a4-d199778ba010      1            557   \n",
              "419c9c09-09c1-468b-8fe5-162d6d06007c      3            390   \n",
              "ce63efba-dd25-4c35-b610-60a85a79e3ca      2             11   \n",
              "\n",
              "                                     reviewCreatedVersion                  at  \\\n",
              "reviewId                                                                        \n",
              "60df685b-c310-481a-b1a5-94cad1a3c335              10.28.3 2023-07-05 06:15:52   \n",
              "f5edb45a-2dd8-4171-a106-656bc547fafa               9.13.7 2023-06-25 20:19:08   \n",
              "3fcb31f2-9c25-48cc-b7a4-d199778ba010               9.13.7 2023-07-04 03:49:25   \n",
              "419c9c09-09c1-468b-8fe5-162d6d06007c              10.28.3 2023-06-28 14:44:22   \n",
              "ce63efba-dd25-4c35-b610-60a85a79e3ca              10.28.3 2023-07-16 05:38:25   \n",
              "\n",
              "                                                                           replyContent  \\\n",
              "reviewId                                                                                  \n",
              "60df685b-c310-481a-b1a5-94cad1a3c335  Hi Raj! We’d like to take a closer look and he...   \n",
              "f5edb45a-2dd8-4171-a106-656bc547fafa  Please write to us at app.feedback@paytm.com. ...   \n",
              "3fcb31f2-9c25-48cc-b7a4-d199778ba010  Please write to us at app.feedback@paytm.com. ...   \n",
              "419c9c09-09c1-468b-8fe5-162d6d06007c  Please write to us at app.feedback@paytm.com. ...   \n",
              "ce63efba-dd25-4c35-b610-60a85a79e3ca                                               None   \n",
              "\n",
              "                                               repliedAt appVersion  \n",
              "reviewId                                                             \n",
              "60df685b-c310-481a-b1a5-94cad1a3c335 2023-07-05 06:23:38    10.28.3  \n",
              "f5edb45a-2dd8-4171-a106-656bc547fafa 2023-06-21 21:36:55     9.13.7  \n",
              "3fcb31f2-9c25-48cc-b7a4-d199778ba010 2023-06-25 18:47:06     9.13.7  \n",
              "419c9c09-09c1-468b-8fe5-162d6d06007c 2023-01-21 21:11:20    10.28.3  \n",
              "ce63efba-dd25-4c35-b610-60a85a79e3ca                 NaT    10.28.3  "
            ],
            "text/html": [
              "\n",
              "\n",
              "  <div id=\"df-bc736ca7-f72e-40d4-9b5e-14b7d933be1b\">\n",
              "    <div class=\"colab-df-container\">\n",
              "      <div>\n",
              "<style scoped>\n",
              "    .dataframe tbody tr th:only-of-type {\n",
              "        vertical-align: middle;\n",
              "    }\n",
              "\n",
              "    .dataframe tbody tr th {\n",
              "        vertical-align: top;\n",
              "    }\n",
              "\n",
              "    .dataframe thead th {\n",
              "        text-align: right;\n",
              "    }\n",
              "</style>\n",
              "<table border=\"1\" class=\"dataframe\">\n",
              "  <thead>\n",
              "    <tr style=\"text-align: right;\">\n",
              "      <th></th>\n",
              "      <th>userName</th>\n",
              "      <th>userImage</th>\n",
              "      <th>content</th>\n",
              "      <th>score</th>\n",
              "      <th>thumbsUpCount</th>\n",
              "      <th>reviewCreatedVersion</th>\n",
              "      <th>at</th>\n",
              "      <th>replyContent</th>\n",
              "      <th>repliedAt</th>\n",
              "      <th>appVersion</th>\n",
              "    </tr>\n",
              "    <tr>\n",
              "      <th>reviewId</th>\n",
              "      <th></th>\n",
              "      <th></th>\n",
              "      <th></th>\n",
              "      <th></th>\n",
              "      <th></th>\n",
              "      <th></th>\n",
              "      <th></th>\n",
              "      <th></th>\n",
              "      <th></th>\n",
              "      <th></th>\n",
              "    </tr>\n",
              "  </thead>\n",
              "  <tbody>\n",
              "    <tr>\n",
              "      <th>60df685b-c310-481a-b1a5-94cad1a3c335</th>\n",
              "      <td>Raj Nandha</td>\n",
              "      <td>https://play-lh.googleusercontent.com/a-/AD_cM...</td>\n",
              "      <td>Paytm's user interface (UI) is a disappointing...</td>\n",
              "      <td>1</td>\n",
              "      <td>1783</td>\n",
              "      <td>10.28.3</td>\n",
              "      <td>2023-07-05 06:15:52</td>\n",
              "      <td>Hi Raj! We’d like to take a closer look and he...</td>\n",
              "      <td>2023-07-05 06:23:38</td>\n",
              "      <td>10.28.3</td>\n",
              "    </tr>\n",
              "    <tr>\n",
              "      <th>f5edb45a-2dd8-4171-a106-656bc547fafa</th>\n",
              "      <td>Namrata M</td>\n",
              "      <td>https://play-lh.googleusercontent.com/a/AAcHTt...</td>\n",
              "      <td>I have been auto logged out from Paytm and I'm...</td>\n",
              "      <td>2</td>\n",
              "      <td>3209</td>\n",
              "      <td>9.13.7</td>\n",
              "      <td>2023-06-25 20:19:08</td>\n",
              "      <td>Please write to us at app.feedback@paytm.com. ...</td>\n",
              "      <td>2023-06-21 21:36:55</td>\n",
              "      <td>9.13.7</td>\n",
              "    </tr>\n",
              "    <tr>\n",
              "      <th>3fcb31f2-9c25-48cc-b7a4-d199778ba010</th>\n",
              "      <td>Moh'd Saif Ullah</td>\n",
              "      <td>https://play-lh.googleusercontent.com/a-/AD_cM...</td>\n",
              "      <td>Update: As requested contacted the developers ...</td>\n",
              "      <td>1</td>\n",
              "      <td>557</td>\n",
              "      <td>9.13.7</td>\n",
              "      <td>2023-07-04 03:49:25</td>\n",
              "      <td>Please write to us at app.feedback@paytm.com. ...</td>\n",
              "      <td>2023-06-25 18:47:06</td>\n",
              "      <td>9.13.7</td>\n",
              "    </tr>\n",
              "    <tr>\n",
              "      <th>419c9c09-09c1-468b-8fe5-162d6d06007c</th>\n",
              "      <td>John Vankal</td>\n",
              "      <td>https://play-lh.googleusercontent.com/a-/AD_cM...</td>\n",
              "      <td>if you use a rooted phone, don't update it. (t...</td>\n",
              "      <td>3</td>\n",
              "      <td>390</td>\n",
              "      <td>10.28.3</td>\n",
              "      <td>2023-06-28 14:44:22</td>\n",
              "      <td>Please write to us at app.feedback@paytm.com. ...</td>\n",
              "      <td>2023-01-21 21:11:20</td>\n",
              "      <td>10.28.3</td>\n",
              "    </tr>\n",
              "    <tr>\n",
              "      <th>ce63efba-dd25-4c35-b610-60a85a79e3ca</th>\n",
              "      <td>Yogesh Hablani</td>\n",
              "      <td>https://play-lh.googleusercontent.com/a/AAcHTt...</td>\n",
              "      <td>When the app works property it's a good experi...</td>\n",
              "      <td>2</td>\n",
              "      <td>11</td>\n",
              "      <td>10.28.3</td>\n",
              "      <td>2023-07-16 05:38:25</td>\n",
              "      <td>None</td>\n",
              "      <td>NaT</td>\n",
              "      <td>10.28.3</td>\n",
              "    </tr>\n",
              "  </tbody>\n",
              "</table>\n",
              "</div>\n",
              "      <button class=\"colab-df-convert\" onclick=\"convertToInteractive('df-bc736ca7-f72e-40d4-9b5e-14b7d933be1b')\"\n",
              "              title=\"Convert this dataframe to an interactive table.\"\n",
              "              style=\"display:none;\">\n",
              "\n",
              "  <svg xmlns=\"http://www.w3.org/2000/svg\" height=\"24px\"viewBox=\"0 0 24 24\"\n",
              "       width=\"24px\">\n",
              "    <path d=\"M0 0h24v24H0V0z\" fill=\"none\"/>\n",
              "    <path d=\"M18.56 5.44l.94 2.06.94-2.06 2.06-.94-2.06-.94-.94-2.06-.94 2.06-2.06.94zm-11 1L8.5 8.5l.94-2.06 2.06-.94-2.06-.94L8.5 2.5l-.94 2.06-2.06.94zm10 10l.94 2.06.94-2.06 2.06-.94-2.06-.94-.94-2.06-.94 2.06-2.06.94z\"/><path d=\"M17.41 7.96l-1.37-1.37c-.4-.4-.92-.59-1.43-.59-.52 0-1.04.2-1.43.59L10.3 9.45l-7.72 7.72c-.78.78-.78 2.05 0 2.83L4 21.41c.39.39.9.59 1.41.59.51 0 1.02-.2 1.41-.59l7.78-7.78 2.81-2.81c.8-.78.8-2.07 0-2.86zM5.41 20L4 18.59l7.72-7.72 1.47 1.35L5.41 20z\"/>\n",
              "  </svg>\n",
              "      </button>\n",
              "\n",
              "\n",
              "\n",
              "    <div id=\"df-1c29e842-58fc-47c8-8eb9-26018fb82652\">\n",
              "      <button class=\"colab-df-quickchart\" onclick=\"quickchart('df-1c29e842-58fc-47c8-8eb9-26018fb82652')\"\n",
              "              title=\"Suggest charts.\"\n",
              "              style=\"display:none;\">\n",
              "\n",
              "<svg xmlns=\"http://www.w3.org/2000/svg\" height=\"24px\"viewBox=\"0 0 24 24\"\n",
              "     width=\"24px\">\n",
              "    <g>\n",
              "        <path d=\"M19 3H5c-1.1 0-2 .9-2 2v14c0 1.1.9 2 2 2h14c1.1 0 2-.9 2-2V5c0-1.1-.9-2-2-2zM9 17H7v-7h2v7zm4 0h-2V7h2v10zm4 0h-2v-4h2v4z\"/>\n",
              "    </g>\n",
              "</svg>\n",
              "      </button>\n",
              "    </div>\n",
              "\n",
              "<style>\n",
              "  .colab-df-quickchart {\n",
              "    background-color: #E8F0FE;\n",
              "    border: none;\n",
              "    border-radius: 50%;\n",
              "    cursor: pointer;\n",
              "    display: none;\n",
              "    fill: #1967D2;\n",
              "    height: 32px;\n",
              "    padding: 0 0 0 0;\n",
              "    width: 32px;\n",
              "  }\n",
              "\n",
              "  .colab-df-quickchart:hover {\n",
              "    background-color: #E2EBFA;\n",
              "    box-shadow: 0px 1px 2px rgba(60, 64, 67, 0.3), 0px 1px 3px 1px rgba(60, 64, 67, 0.15);\n",
              "    fill: #174EA6;\n",
              "  }\n",
              "\n",
              "  [theme=dark] .colab-df-quickchart {\n",
              "    background-color: #3B4455;\n",
              "    fill: #D2E3FC;\n",
              "  }\n",
              "\n",
              "  [theme=dark] .colab-df-quickchart:hover {\n",
              "    background-color: #434B5C;\n",
              "    box-shadow: 0px 1px 3px 1px rgba(0, 0, 0, 0.15);\n",
              "    filter: drop-shadow(0px 1px 2px rgba(0, 0, 0, 0.3));\n",
              "    fill: #FFFFFF;\n",
              "  }\n",
              "</style>\n",
              "\n",
              "    <script>\n",
              "      async function quickchart(key) {\n",
              "        const containerElement = document.querySelector('#' + key);\n",
              "        const charts = await google.colab.kernel.invokeFunction(\n",
              "            'suggestCharts', [key], {});\n",
              "      }\n",
              "    </script>\n",
              "\n",
              "      <script>\n",
              "\n",
              "function displayQuickchartButton(domScope) {\n",
              "  let quickchartButtonEl =\n",
              "    domScope.querySelector('#df-1c29e842-58fc-47c8-8eb9-26018fb82652 button.colab-df-quickchart');\n",
              "  quickchartButtonEl.style.display =\n",
              "    google.colab.kernel.accessAllowed ? 'block' : 'none';\n",
              "}\n",
              "\n",
              "        displayQuickchartButton(document);\n",
              "      </script>\n",
              "      <style>\n",
              "    .colab-df-container {\n",
              "      display:flex;\n",
              "      flex-wrap:wrap;\n",
              "      gap: 12px;\n",
              "    }\n",
              "\n",
              "    .colab-df-convert {\n",
              "      background-color: #E8F0FE;\n",
              "      border: none;\n",
              "      border-radius: 50%;\n",
              "      cursor: pointer;\n",
              "      display: none;\n",
              "      fill: #1967D2;\n",
              "      height: 32px;\n",
              "      padding: 0 0 0 0;\n",
              "      width: 32px;\n",
              "    }\n",
              "\n",
              "    .colab-df-convert:hover {\n",
              "      background-color: #E2EBFA;\n",
              "      box-shadow: 0px 1px 2px rgba(60, 64, 67, 0.3), 0px 1px 3px 1px rgba(60, 64, 67, 0.15);\n",
              "      fill: #174EA6;\n",
              "    }\n",
              "\n",
              "    [theme=dark] .colab-df-convert {\n",
              "      background-color: #3B4455;\n",
              "      fill: #D2E3FC;\n",
              "    }\n",
              "\n",
              "    [theme=dark] .colab-df-convert:hover {\n",
              "      background-color: #434B5C;\n",
              "      box-shadow: 0px 1px 3px 1px rgba(0, 0, 0, 0.15);\n",
              "      filter: drop-shadow(0px 1px 2px rgba(0, 0, 0, 0.3));\n",
              "      fill: #FFFFFF;\n",
              "    }\n",
              "  </style>\n",
              "\n",
              "      <script>\n",
              "        const buttonEl =\n",
              "          document.querySelector('#df-bc736ca7-f72e-40d4-9b5e-14b7d933be1b button.colab-df-convert');\n",
              "        buttonEl.style.display =\n",
              "          google.colab.kernel.accessAllowed ? 'block' : 'none';\n",
              "\n",
              "        async function convertToInteractive(key) {\n",
              "          const element = document.querySelector('#df-bc736ca7-f72e-40d4-9b5e-14b7d933be1b');\n",
              "          const dataTable =\n",
              "            await google.colab.kernel.invokeFunction('convertToInteractive',\n",
              "                                                     [key], {});\n",
              "          if (!dataTable) return;\n",
              "\n",
              "          const docLinkHtml = 'Like what you see? Visit the ' +\n",
              "            '<a target=\"_blank\" href=https://colab.research.google.com/notebooks/data_table.ipynb>data table notebook</a>'\n",
              "            + ' to learn more about interactive tables.';\n",
              "          element.innerHTML = '';\n",
              "          dataTable['output_type'] = 'display_data';\n",
              "          await google.colab.output.renderOutput(dataTable, element);\n",
              "          const docLink = document.createElement('div');\n",
              "          docLink.innerHTML = docLinkHtml;\n",
              "          element.appendChild(docLink);\n",
              "        }\n",
              "      </script>\n",
              "    </div>\n",
              "  </div>\n"
            ]
          },
          "metadata": {},
          "execution_count": 34
        }
      ]
    },
    {
      "cell_type": "code",
      "source": [
        "from google.colab import files"
      ],
      "metadata": {
        "id": "D9LA4FyuRL3S"
      },
      "execution_count": null,
      "outputs": []
    },
    {
      "cell_type": "code",
      "source": [
        "db_paytm_new.to_csv('paytm_new.csv', index=True)"
      ],
      "metadata": {
        "id": "_aDvBFAMRMoP"
      },
      "execution_count": null,
      "outputs": []
    },
    {
      "cell_type": "code",
      "source": [
        "db_paytm_help.to_csv('paytm_help.csv', index=True, escapechar='\\\\')"
      ],
      "metadata": {
        "id": "5R_1aqpFRvTk"
      },
      "execution_count": null,
      "outputs": []
    },
    {
      "cell_type": "code",
      "source": [
        "# Downloading the CSV file\n",
        "files.download('paytm_new.csv')"
      ],
      "metadata": {
        "colab": {
          "base_uri": "https://localhost:8080/",
          "height": 17
        },
        "id": "F-KlsiFSScnP",
        "outputId": "d66dbf4f-024e-4bb8-be29-142716cd45b2"
      },
      "execution_count": null,
      "outputs": [
        {
          "output_type": "display_data",
          "data": {
            "text/plain": [
              "<IPython.core.display.Javascript object>"
            ],
            "application/javascript": [
              "\n",
              "    async function download(id, filename, size) {\n",
              "      if (!google.colab.kernel.accessAllowed) {\n",
              "        return;\n",
              "      }\n",
              "      const div = document.createElement('div');\n",
              "      const label = document.createElement('label');\n",
              "      label.textContent = `Downloading \"${filename}\": `;\n",
              "      div.appendChild(label);\n",
              "      const progress = document.createElement('progress');\n",
              "      progress.max = size;\n",
              "      div.appendChild(progress);\n",
              "      document.body.appendChild(div);\n",
              "\n",
              "      const buffers = [];\n",
              "      let downloaded = 0;\n",
              "\n",
              "      const channel = await google.colab.kernel.comms.open(id);\n",
              "      // Send a message to notify the kernel that we're ready.\n",
              "      channel.send({})\n",
              "\n",
              "      for await (const message of channel.messages) {\n",
              "        // Send a message to notify the kernel that we're ready.\n",
              "        channel.send({})\n",
              "        if (message.buffers) {\n",
              "          for (const buffer of message.buffers) {\n",
              "            buffers.push(buffer);\n",
              "            downloaded += buffer.byteLength;\n",
              "            progress.value = downloaded;\n",
              "          }\n",
              "        }\n",
              "      }\n",
              "      const blob = new Blob(buffers, {type: 'application/binary'});\n",
              "      const a = document.createElement('a');\n",
              "      a.href = window.URL.createObjectURL(blob);\n",
              "      a.download = filename;\n",
              "      div.appendChild(a);\n",
              "      a.click();\n",
              "      div.remove();\n",
              "    }\n",
              "  "
            ]
          },
          "metadata": {}
        },
        {
          "output_type": "display_data",
          "data": {
            "text/plain": [
              "<IPython.core.display.Javascript object>"
            ],
            "application/javascript": [
              "download(\"download_8563f859-9e09-4f5c-8752-6746cf7afa04\", \"paytm_new.csv\", 15936633)"
            ]
          },
          "metadata": {}
        }
      ]
    },
    {
      "cell_type": "code",
      "source": [
        "# Downloading the CSV file\n",
        "files.download('paytm_help.csv')"
      ],
      "metadata": {
        "colab": {
          "base_uri": "https://localhost:8080/",
          "height": 17
        },
        "id": "nUqYygTUSkDT",
        "outputId": "55a707fc-0c04-42fc-8b7d-2681180cd18d"
      },
      "execution_count": null,
      "outputs": [
        {
          "output_type": "display_data",
          "data": {
            "text/plain": [
              "<IPython.core.display.Javascript object>"
            ],
            "application/javascript": [
              "\n",
              "    async function download(id, filename, size) {\n",
              "      if (!google.colab.kernel.accessAllowed) {\n",
              "        return;\n",
              "      }\n",
              "      const div = document.createElement('div');\n",
              "      const label = document.createElement('label');\n",
              "      label.textContent = `Downloading \"${filename}\": `;\n",
              "      div.appendChild(label);\n",
              "      const progress = document.createElement('progress');\n",
              "      progress.max = size;\n",
              "      div.appendChild(progress);\n",
              "      document.body.appendChild(div);\n",
              "\n",
              "      const buffers = [];\n",
              "      let downloaded = 0;\n",
              "\n",
              "      const channel = await google.colab.kernel.comms.open(id);\n",
              "      // Send a message to notify the kernel that we're ready.\n",
              "      channel.send({})\n",
              "\n",
              "      for await (const message of channel.messages) {\n",
              "        // Send a message to notify the kernel that we're ready.\n",
              "        channel.send({})\n",
              "        if (message.buffers) {\n",
              "          for (const buffer of message.buffers) {\n",
              "            buffers.push(buffer);\n",
              "            downloaded += buffer.byteLength;\n",
              "            progress.value = downloaded;\n",
              "          }\n",
              "        }\n",
              "      }\n",
              "      const blob = new Blob(buffers, {type: 'application/binary'});\n",
              "      const a = document.createElement('a');\n",
              "      a.href = window.URL.createObjectURL(blob);\n",
              "      a.download = filename;\n",
              "      div.appendChild(a);\n",
              "      a.click();\n",
              "      div.remove();\n",
              "    }\n",
              "  "
            ]
          },
          "metadata": {}
        },
        {
          "output_type": "display_data",
          "data": {
            "text/plain": [
              "<IPython.core.display.Javascript object>"
            ],
            "application/javascript": [
              "download(\"download_c6daa650-f129-46d1-916b-89e423e85d31\", \"paytm_help.csv\", 23831252)"
            ]
          },
          "metadata": {}
        }
      ]
    }
  ]
}