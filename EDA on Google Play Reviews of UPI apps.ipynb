{
 "cells": [
  {
   "cell_type": "code",
   "execution_count": 1,
   "metadata": {
    "id": "upqt-OTr8fXp"
   },
   "outputs": [
    {
     "ename": "ModuleNotFoundError",
     "evalue": "No module named 'matplotlib'",
     "output_type": "error",
     "traceback": [
      "\u001b[1;31m---------------------------------------------------------------------------\u001b[0m",
      "\u001b[1;31mModuleNotFoundError\u001b[0m                       Traceback (most recent call last)",
      "Cell \u001b[1;32mIn[1], line 3\u001b[0m\n\u001b[0;32m      1\u001b[0m \u001b[38;5;28;01mimport\u001b[39;00m \u001b[38;5;21;01mpandas\u001b[39;00m \u001b[38;5;28;01mas\u001b[39;00m \u001b[38;5;21;01mpd\u001b[39;00m\n\u001b[0;32m      2\u001b[0m \u001b[38;5;28;01mimport\u001b[39;00m \u001b[38;5;21;01mnumpy\u001b[39;00m \u001b[38;5;28;01mas\u001b[39;00m \u001b[38;5;21;01mnp\u001b[39;00m\n\u001b[1;32m----> 3\u001b[0m \u001b[38;5;28;01mimport\u001b[39;00m \u001b[38;5;21;01mmatplotlib\u001b[39;00m\u001b[38;5;21;01m.\u001b[39;00m\u001b[38;5;21;01mpyplot\u001b[39;00m \u001b[38;5;28;01mas\u001b[39;00m \u001b[38;5;21;01mplt\u001b[39;00m\n\u001b[0;32m      4\u001b[0m \u001b[38;5;28;01mimport\u001b[39;00m \u001b[38;5;21;01mseaborn\u001b[39;00m \u001b[38;5;28;01mas\u001b[39;00m \u001b[38;5;21;01msns\u001b[39;00m\n",
      "\u001b[1;31mModuleNotFoundError\u001b[0m: No module named 'matplotlib'"
     ]
    }
   ],
   "source": [
    "import pandas as pd\n",
    "import numpy as np\n",
    "import matplotlib.pyplot as plt\n",
    "import seaborn as sns"
   ]
  },
  {
   "cell_type": "markdown",
   "metadata": {
    "id": "SKRhzIPiQ4m6"
   },
   "source": []
  },
  {
   "cell_type": "code",
   "execution_count": 236,
   "metadata": {
    "id": "J6W22JhOCxIX"
   },
   "outputs": [],
   "source": [
    "google_data = pd.read_csv(\"https://github.com/hridjain/googleplayupireviews/raw/main/gpay_help.csv\")\n",
    "paytm_data = pd.read_csv(\"https://github.com/hridjain/googleplayupireviews/raw/main/paytm_help.csv\")\n",
    "phonepe_data = pd.read_csv(\"https://github.com/hridjain/googleplayupireviews/raw/main/phonepe_help.csv\")"
   ]
  },
  {
   "cell_type": "code",
   "execution_count": 237,
   "metadata": {
    "colab": {
     "base_uri": "https://localhost:8080/",
     "height": 354
    },
    "id": "H6MxcEKzDYmR",
    "outputId": "36daf44e-fe47-4c75-f0d4-0e8bd226ccc0"
   },
   "outputs": [
    {
     "data": {
      "text/html": [
       "\n",
       "\n",
       "  <div id=\"df-ec2f6ef0-b7f9-485b-b5e1-c1f14f0e6d00\">\n",
       "    <div class=\"colab-df-container\">\n",
       "      <div>\n",
       "<style scoped>\n",
       "    .dataframe tbody tr th:only-of-type {\n",
       "        vertical-align: middle;\n",
       "    }\n",
       "\n",
       "    .dataframe tbody tr th {\n",
       "        vertical-align: top;\n",
       "    }\n",
       "\n",
       "    .dataframe thead th {\n",
       "        text-align: right;\n",
       "    }\n",
       "</style>\n",
       "<table border=\"1\" class=\"dataframe\">\n",
       "  <thead>\n",
       "    <tr style=\"text-align: right;\">\n",
       "      <th></th>\n",
       "      <th>reviewId</th>\n",
       "      <th>userName</th>\n",
       "      <th>Unnamed: 2</th>\n",
       "      <th>content</th>\n",
       "      <th>score</th>\n",
       "      <th>thumbsUpCount</th>\n",
       "      <th>reviewCreatedVersion</th>\n",
       "      <th>at</th>\n",
       "      <th>replyContent</th>\n",
       "      <th>repliedAt</th>\n",
       "      <th>appVersion</th>\n",
       "    </tr>\n",
       "  </thead>\n",
       "  <tbody>\n",
       "    <tr>\n",
       "      <th>0</th>\n",
       "      <td>113fba88-7864-4c9f-8f08-b228217a2069</td>\n",
       "      <td>Shourya Tripathi</td>\n",
       "      <td>NaN</td>\n",
       "      <td>I have a couple of feedback for the product te...</td>\n",
       "      <td>4</td>\n",
       "      <td>17558</td>\n",
       "      <td>171.1.4 (arm64-v8a_release_flutter)</td>\n",
       "      <td>2/17/2023 7:53</td>\n",
       "      <td>NaN</td>\n",
       "      <td>NaN</td>\n",
       "      <td>171.1.4 (arm64-v8a_release_flutter)</td>\n",
       "    </tr>\n",
       "    <tr>\n",
       "      <th>1</th>\n",
       "      <td>fab1f7f9-6691-46a7-bc22-8c0ef7baf413</td>\n",
       "      <td>SIMAN R</td>\n",
       "      <td>NaN</td>\n",
       "      <td>After the last update, QR scanner no longer wo...</td>\n",
       "      <td>1</td>\n",
       "      <td>11020</td>\n",
       "      <td>176.1.2 (arm64-v8a_release_flutter)</td>\n",
       "      <td>4/21/2023 9:20</td>\n",
       "      <td>Regret the inconvenience, Siman. Our team is a...</td>\n",
       "      <td>4/21/2023 9:26</td>\n",
       "      <td>176.1.2 (arm64-v8a_release_flutter)</td>\n",
       "    </tr>\n",
       "    <tr>\n",
       "      <th>2</th>\n",
       "      <td>f42e2709-6957-4ee1-a011-6ee7e3c1f001</td>\n",
       "      <td>SUJIT BAGDI</td>\n",
       "      <td>NaN</td>\n",
       "      <td>T have been using this app for more than 3 yea...</td>\n",
       "      <td>2</td>\n",
       "      <td>10546</td>\n",
       "      <td>174.1.3 (arm64-v8a_release_flutter)</td>\n",
       "      <td>4/1/2023 6:19</td>\n",
       "      <td>Regret the inconvenience, Sujit. We suggest yo...</td>\n",
       "      <td>4/1/2023 6:37</td>\n",
       "      <td>174.1.3 (arm64-v8a_release_flutter)</td>\n",
       "    </tr>\n",
       "    <tr>\n",
       "      <th>3</th>\n",
       "      <td>56e48369-a70b-40a4-a5be-7ded7b60939c</td>\n",
       "      <td>Shubham Kulkarni</td>\n",
       "      <td>NaN</td>\n",
       "      <td>I have been using the application for a certai...</td>\n",
       "      <td>3</td>\n",
       "      <td>2754</td>\n",
       "      <td>170.1.5 (arm64-v8a_release_flutter)</td>\n",
       "      <td>2/3/2023 11:01</td>\n",
       "      <td>Regret the inconvenience, Shubham. We suggest ...</td>\n",
       "      <td>2/3/2023 11:11</td>\n",
       "      <td>170.1.5 (arm64-v8a_release_flutter)</td>\n",
       "    </tr>\n",
       "    <tr>\n",
       "      <th>4</th>\n",
       "      <td>e9279614-439c-4a1c-b978-f0e6924454bf</td>\n",
       "      <td>PARVEZ GUJJAR</td>\n",
       "      <td>NaN</td>\n",
       "      <td>After the last update, QR scanner no longer wo...</td>\n",
       "      <td>3</td>\n",
       "      <td>27</td>\n",
       "      <td>183.1.1 (arm64-v8a_release_flutter)</td>\n",
       "      <td>7/16/2023 6:14</td>\n",
       "      <td>Regret the inconvenience, Parvez. Our team is ...</td>\n",
       "      <td>7/16/2023 6:24</td>\n",
       "      <td>183.1.1 (arm64-v8a_release_flutter)</td>\n",
       "    </tr>\n",
       "  </tbody>\n",
       "</table>\n",
       "</div>\n",
       "      <button class=\"colab-df-convert\" onclick=\"convertToInteractive('df-ec2f6ef0-b7f9-485b-b5e1-c1f14f0e6d00')\"\n",
       "              title=\"Convert this dataframe to an interactive table.\"\n",
       "              style=\"display:none;\">\n",
       "\n",
       "  <svg xmlns=\"http://www.w3.org/2000/svg\" height=\"24px\"viewBox=\"0 0 24 24\"\n",
       "       width=\"24px\">\n",
       "    <path d=\"M0 0h24v24H0V0z\" fill=\"none\"/>\n",
       "    <path d=\"M18.56 5.44l.94 2.06.94-2.06 2.06-.94-2.06-.94-.94-2.06-.94 2.06-2.06.94zm-11 1L8.5 8.5l.94-2.06 2.06-.94-2.06-.94L8.5 2.5l-.94 2.06-2.06.94zm10 10l.94 2.06.94-2.06 2.06-.94-2.06-.94-.94-2.06-.94 2.06-2.06.94z\"/><path d=\"M17.41 7.96l-1.37-1.37c-.4-.4-.92-.59-1.43-.59-.52 0-1.04.2-1.43.59L10.3 9.45l-7.72 7.72c-.78.78-.78 2.05 0 2.83L4 21.41c.39.39.9.59 1.41.59.51 0 1.02-.2 1.41-.59l7.78-7.78 2.81-2.81c.8-.78.8-2.07 0-2.86zM5.41 20L4 18.59l7.72-7.72 1.47 1.35L5.41 20z\"/>\n",
       "  </svg>\n",
       "      </button>\n",
       "\n",
       "\n",
       "\n",
       "    <div id=\"df-cafc68b3-a694-4b8f-a899-354921fafa9f\">\n",
       "      <button class=\"colab-df-quickchart\" onclick=\"quickchart('df-cafc68b3-a694-4b8f-a899-354921fafa9f')\"\n",
       "              title=\"Suggest charts.\"\n",
       "              style=\"display:none;\">\n",
       "\n",
       "<svg xmlns=\"http://www.w3.org/2000/svg\" height=\"24px\"viewBox=\"0 0 24 24\"\n",
       "     width=\"24px\">\n",
       "    <g>\n",
       "        <path d=\"M19 3H5c-1.1 0-2 .9-2 2v14c0 1.1.9 2 2 2h14c1.1 0 2-.9 2-2V5c0-1.1-.9-2-2-2zM9 17H7v-7h2v7zm4 0h-2V7h2v10zm4 0h-2v-4h2v4z\"/>\n",
       "    </g>\n",
       "</svg>\n",
       "      </button>\n",
       "    </div>\n",
       "\n",
       "<style>\n",
       "  .colab-df-quickchart {\n",
       "    background-color: #E8F0FE;\n",
       "    border: none;\n",
       "    border-radius: 50%;\n",
       "    cursor: pointer;\n",
       "    display: none;\n",
       "    fill: #1967D2;\n",
       "    height: 32px;\n",
       "    padding: 0 0 0 0;\n",
       "    width: 32px;\n",
       "  }\n",
       "\n",
       "  .colab-df-quickchart:hover {\n",
       "    background-color: #E2EBFA;\n",
       "    box-shadow: 0px 1px 2px rgba(60, 64, 67, 0.3), 0px 1px 3px 1px rgba(60, 64, 67, 0.15);\n",
       "    fill: #174EA6;\n",
       "  }\n",
       "\n",
       "  [theme=dark] .colab-df-quickchart {\n",
       "    background-color: #3B4455;\n",
       "    fill: #D2E3FC;\n",
       "  }\n",
       "\n",
       "  [theme=dark] .colab-df-quickchart:hover {\n",
       "    background-color: #434B5C;\n",
       "    box-shadow: 0px 1px 3px 1px rgba(0, 0, 0, 0.15);\n",
       "    filter: drop-shadow(0px 1px 2px rgba(0, 0, 0, 0.3));\n",
       "    fill: #FFFFFF;\n",
       "  }\n",
       "</style>\n",
       "\n",
       "    <script>\n",
       "      async function quickchart(key) {\n",
       "        const containerElement = document.querySelector('#' + key);\n",
       "        const charts = await google.colab.kernel.invokeFunction(\n",
       "            'suggestCharts', [key], {});\n",
       "      }\n",
       "    </script>\n",
       "\n",
       "      <script>\n",
       "\n",
       "function displayQuickchartButton(domScope) {\n",
       "  let quickchartButtonEl =\n",
       "    domScope.querySelector('#df-cafc68b3-a694-4b8f-a899-354921fafa9f button.colab-df-quickchart');\n",
       "  quickchartButtonEl.style.display =\n",
       "    google.colab.kernel.accessAllowed ? 'block' : 'none';\n",
       "}\n",
       "\n",
       "        displayQuickchartButton(document);\n",
       "      </script>\n",
       "      <style>\n",
       "    .colab-df-container {\n",
       "      display:flex;\n",
       "      flex-wrap:wrap;\n",
       "      gap: 12px;\n",
       "    }\n",
       "\n",
       "    .colab-df-convert {\n",
       "      background-color: #E8F0FE;\n",
       "      border: none;\n",
       "      border-radius: 50%;\n",
       "      cursor: pointer;\n",
       "      display: none;\n",
       "      fill: #1967D2;\n",
       "      height: 32px;\n",
       "      padding: 0 0 0 0;\n",
       "      width: 32px;\n",
       "    }\n",
       "\n",
       "    .colab-df-convert:hover {\n",
       "      background-color: #E2EBFA;\n",
       "      box-shadow: 0px 1px 2px rgba(60, 64, 67, 0.3), 0px 1px 3px 1px rgba(60, 64, 67, 0.15);\n",
       "      fill: #174EA6;\n",
       "    }\n",
       "\n",
       "    [theme=dark] .colab-df-convert {\n",
       "      background-color: #3B4455;\n",
       "      fill: #D2E3FC;\n",
       "    }\n",
       "\n",
       "    [theme=dark] .colab-df-convert:hover {\n",
       "      background-color: #434B5C;\n",
       "      box-shadow: 0px 1px 3px 1px rgba(0, 0, 0, 0.15);\n",
       "      filter: drop-shadow(0px 1px 2px rgba(0, 0, 0, 0.3));\n",
       "      fill: #FFFFFF;\n",
       "    }\n",
       "  </style>\n",
       "\n",
       "      <script>\n",
       "        const buttonEl =\n",
       "          document.querySelector('#df-ec2f6ef0-b7f9-485b-b5e1-c1f14f0e6d00 button.colab-df-convert');\n",
       "        buttonEl.style.display =\n",
       "          google.colab.kernel.accessAllowed ? 'block' : 'none';\n",
       "\n",
       "        async function convertToInteractive(key) {\n",
       "          const element = document.querySelector('#df-ec2f6ef0-b7f9-485b-b5e1-c1f14f0e6d00');\n",
       "          const dataTable =\n",
       "            await google.colab.kernel.invokeFunction('convertToInteractive',\n",
       "                                                     [key], {});\n",
       "          if (!dataTable) return;\n",
       "\n",
       "          const docLinkHtml = 'Like what you see? Visit the ' +\n",
       "            '<a target=\"_blank\" href=https://colab.research.google.com/notebooks/data_table.ipynb>data table notebook</a>'\n",
       "            + ' to learn more about interactive tables.';\n",
       "          element.innerHTML = '';\n",
       "          dataTable['output_type'] = 'display_data';\n",
       "          await google.colab.output.renderOutput(dataTable, element);\n",
       "          const docLink = document.createElement('div');\n",
       "          docLink.innerHTML = docLinkHtml;\n",
       "          element.appendChild(docLink);\n",
       "        }\n",
       "      </script>\n",
       "    </div>\n",
       "  </div>\n"
      ],
      "text/plain": [
       "                               reviewId          userName  Unnamed: 2  \\\n",
       "0  113fba88-7864-4c9f-8f08-b228217a2069  Shourya Tripathi         NaN   \n",
       "1  fab1f7f9-6691-46a7-bc22-8c0ef7baf413           SIMAN R         NaN   \n",
       "2  f42e2709-6957-4ee1-a011-6ee7e3c1f001       SUJIT BAGDI         NaN   \n",
       "3  56e48369-a70b-40a4-a5be-7ded7b60939c  Shubham Kulkarni         NaN   \n",
       "4  e9279614-439c-4a1c-b978-f0e6924454bf     PARVEZ GUJJAR         NaN   \n",
       "\n",
       "                                             content  score  thumbsUpCount  \\\n",
       "0  I have a couple of feedback for the product te...      4          17558   \n",
       "1  After the last update, QR scanner no longer wo...      1          11020   \n",
       "2  T have been using this app for more than 3 yea...      2          10546   \n",
       "3  I have been using the application for a certai...      3           2754   \n",
       "4  After the last update, QR scanner no longer wo...      3             27   \n",
       "\n",
       "                  reviewCreatedVersion              at  \\\n",
       "0  171.1.4 (arm64-v8a_release_flutter)  2/17/2023 7:53   \n",
       "1  176.1.2 (arm64-v8a_release_flutter)  4/21/2023 9:20   \n",
       "2  174.1.3 (arm64-v8a_release_flutter)   4/1/2023 6:19   \n",
       "3  170.1.5 (arm64-v8a_release_flutter)  2/3/2023 11:01   \n",
       "4  183.1.1 (arm64-v8a_release_flutter)  7/16/2023 6:14   \n",
       "\n",
       "                                        replyContent       repliedAt  \\\n",
       "0                                                NaN             NaN   \n",
       "1  Regret the inconvenience, Siman. Our team is a...  4/21/2023 9:26   \n",
       "2  Regret the inconvenience, Sujit. We suggest yo...   4/1/2023 6:37   \n",
       "3  Regret the inconvenience, Shubham. We suggest ...  2/3/2023 11:11   \n",
       "4  Regret the inconvenience, Parvez. Our team is ...  7/16/2023 6:24   \n",
       "\n",
       "                            appVersion  \n",
       "0  171.1.4 (arm64-v8a_release_flutter)  \n",
       "1  176.1.2 (arm64-v8a_release_flutter)  \n",
       "2  174.1.3 (arm64-v8a_release_flutter)  \n",
       "3  170.1.5 (arm64-v8a_release_flutter)  \n",
       "4  183.1.1 (arm64-v8a_release_flutter)  "
      ]
     },
     "execution_count": 237,
     "metadata": {},
     "output_type": "execute_result"
    }
   ],
   "source": [
    "google_data.head()"
   ]
  },
  {
   "cell_type": "code",
   "execution_count": 238,
   "metadata": {
    "colab": {
     "base_uri": "https://localhost:8080/",
     "height": 354
    },
    "id": "AxdWDGFVRKId",
    "outputId": "248820bd-81ed-4baf-c223-38b85c8d2eb8"
   },
   "outputs": [
    {
     "data": {
      "text/html": [
       "\n",
       "\n",
       "  <div id=\"df-7b314fbf-e568-49f4-a933-10f2e2296983\">\n",
       "    <div class=\"colab-df-container\">\n",
       "      <div>\n",
       "<style scoped>\n",
       "    .dataframe tbody tr th:only-of-type {\n",
       "        vertical-align: middle;\n",
       "    }\n",
       "\n",
       "    .dataframe tbody tr th {\n",
       "        vertical-align: top;\n",
       "    }\n",
       "\n",
       "    .dataframe thead th {\n",
       "        text-align: right;\n",
       "    }\n",
       "</style>\n",
       "<table border=\"1\" class=\"dataframe\">\n",
       "  <thead>\n",
       "    <tr style=\"text-align: right;\">\n",
       "      <th></th>\n",
       "      <th>reviewId</th>\n",
       "      <th>userName</th>\n",
       "      <th>Unnamed: 2</th>\n",
       "      <th>content</th>\n",
       "      <th>score</th>\n",
       "      <th>thumbsUpCount</th>\n",
       "      <th>reviewCreatedVersion</th>\n",
       "      <th>at</th>\n",
       "      <th>replyContent</th>\n",
       "      <th>repliedAt</th>\n",
       "      <th>appVersion</th>\n",
       "    </tr>\n",
       "  </thead>\n",
       "  <tbody>\n",
       "    <tr>\n",
       "      <th>0</th>\n",
       "      <td>60df685b-c310-481a-b1a5-94cad1a3c335</td>\n",
       "      <td>Raj Nandha</td>\n",
       "      <td>NaN</td>\n",
       "      <td>Paytm's user interface (UI) is a disappointing...</td>\n",
       "      <td>1</td>\n",
       "      <td>1783</td>\n",
       "      <td>10.28.3</td>\n",
       "      <td>7/5/2023 6:15</td>\n",
       "      <td>Hi Raj! We’d like to take a closer look and he...</td>\n",
       "      <td>7/5/2023 6:23</td>\n",
       "      <td>10.28.3</td>\n",
       "    </tr>\n",
       "    <tr>\n",
       "      <th>1</th>\n",
       "      <td>f5edb45a-2dd8-4171-a106-656bc547fafa</td>\n",
       "      <td>Namrata M</td>\n",
       "      <td>NaN</td>\n",
       "      <td>I have been auto logged out from Paytm and I'm...</td>\n",
       "      <td>2</td>\n",
       "      <td>3209</td>\n",
       "      <td>9.13.7</td>\n",
       "      <td>6/25/2023 20:19</td>\n",
       "      <td>Please write to us at app.feedback@paytm.com. ...</td>\n",
       "      <td>6/21/2023 21:36</td>\n",
       "      <td>9.13.7</td>\n",
       "    </tr>\n",
       "    <tr>\n",
       "      <th>2</th>\n",
       "      <td>3fcb31f2-9c25-48cc-b7a4-d199778ba010</td>\n",
       "      <td>Moh'd Saif Ullah</td>\n",
       "      <td>NaN</td>\n",
       "      <td>Update: As requested contacted the developers ...</td>\n",
       "      <td>1</td>\n",
       "      <td>557</td>\n",
       "      <td>9.13.7</td>\n",
       "      <td>7/4/2023 3:49</td>\n",
       "      <td>Please write to us at app.feedback@paytm.com. ...</td>\n",
       "      <td>6/25/2023 18:47</td>\n",
       "      <td>9.13.7</td>\n",
       "    </tr>\n",
       "    <tr>\n",
       "      <th>3</th>\n",
       "      <td>419c9c09-09c1-468b-8fe5-162d6d06007c</td>\n",
       "      <td>John Vankal</td>\n",
       "      <td>NaN</td>\n",
       "      <td>if you use a rooted phone, don't update it. (t...</td>\n",
       "      <td>3</td>\n",
       "      <td>390</td>\n",
       "      <td>10.28.3</td>\n",
       "      <td>6/28/2023 14:44</td>\n",
       "      <td>Please write to us at app.feedback@paytm.com. ...</td>\n",
       "      <td>1/21/2023 21:11</td>\n",
       "      <td>10.28.3</td>\n",
       "    </tr>\n",
       "    <tr>\n",
       "      <th>4</th>\n",
       "      <td>ce63efba-dd25-4c35-b610-60a85a79e3ca</td>\n",
       "      <td>Yogesh Hablani</td>\n",
       "      <td>NaN</td>\n",
       "      <td>When the app works property it's a good experi...</td>\n",
       "      <td>2</td>\n",
       "      <td>11</td>\n",
       "      <td>10.28.3</td>\n",
       "      <td>7/16/2023 5:38</td>\n",
       "      <td>NaN</td>\n",
       "      <td>NaN</td>\n",
       "      <td>10.28.3</td>\n",
       "    </tr>\n",
       "  </tbody>\n",
       "</table>\n",
       "</div>\n",
       "      <button class=\"colab-df-convert\" onclick=\"convertToInteractive('df-7b314fbf-e568-49f4-a933-10f2e2296983')\"\n",
       "              title=\"Convert this dataframe to an interactive table.\"\n",
       "              style=\"display:none;\">\n",
       "\n",
       "  <svg xmlns=\"http://www.w3.org/2000/svg\" height=\"24px\"viewBox=\"0 0 24 24\"\n",
       "       width=\"24px\">\n",
       "    <path d=\"M0 0h24v24H0V0z\" fill=\"none\"/>\n",
       "    <path d=\"M18.56 5.44l.94 2.06.94-2.06 2.06-.94-2.06-.94-.94-2.06-.94 2.06-2.06.94zm-11 1L8.5 8.5l.94-2.06 2.06-.94-2.06-.94L8.5 2.5l-.94 2.06-2.06.94zm10 10l.94 2.06.94-2.06 2.06-.94-2.06-.94-.94-2.06-.94 2.06-2.06.94z\"/><path d=\"M17.41 7.96l-1.37-1.37c-.4-.4-.92-.59-1.43-.59-.52 0-1.04.2-1.43.59L10.3 9.45l-7.72 7.72c-.78.78-.78 2.05 0 2.83L4 21.41c.39.39.9.59 1.41.59.51 0 1.02-.2 1.41-.59l7.78-7.78 2.81-2.81c.8-.78.8-2.07 0-2.86zM5.41 20L4 18.59l7.72-7.72 1.47 1.35L5.41 20z\"/>\n",
       "  </svg>\n",
       "      </button>\n",
       "\n",
       "\n",
       "\n",
       "    <div id=\"df-6296cdb0-647b-4e26-ac49-f4079a9b3361\">\n",
       "      <button class=\"colab-df-quickchart\" onclick=\"quickchart('df-6296cdb0-647b-4e26-ac49-f4079a9b3361')\"\n",
       "              title=\"Suggest charts.\"\n",
       "              style=\"display:none;\">\n",
       "\n",
       "<svg xmlns=\"http://www.w3.org/2000/svg\" height=\"24px\"viewBox=\"0 0 24 24\"\n",
       "     width=\"24px\">\n",
       "    <g>\n",
       "        <path d=\"M19 3H5c-1.1 0-2 .9-2 2v14c0 1.1.9 2 2 2h14c1.1 0 2-.9 2-2V5c0-1.1-.9-2-2-2zM9 17H7v-7h2v7zm4 0h-2V7h2v10zm4 0h-2v-4h2v4z\"/>\n",
       "    </g>\n",
       "</svg>\n",
       "      </button>\n",
       "    </div>\n",
       "\n",
       "<style>\n",
       "  .colab-df-quickchart {\n",
       "    background-color: #E8F0FE;\n",
       "    border: none;\n",
       "    border-radius: 50%;\n",
       "    cursor: pointer;\n",
       "    display: none;\n",
       "    fill: #1967D2;\n",
       "    height: 32px;\n",
       "    padding: 0 0 0 0;\n",
       "    width: 32px;\n",
       "  }\n",
       "\n",
       "  .colab-df-quickchart:hover {\n",
       "    background-color: #E2EBFA;\n",
       "    box-shadow: 0px 1px 2px rgba(60, 64, 67, 0.3), 0px 1px 3px 1px rgba(60, 64, 67, 0.15);\n",
       "    fill: #174EA6;\n",
       "  }\n",
       "\n",
       "  [theme=dark] .colab-df-quickchart {\n",
       "    background-color: #3B4455;\n",
       "    fill: #D2E3FC;\n",
       "  }\n",
       "\n",
       "  [theme=dark] .colab-df-quickchart:hover {\n",
       "    background-color: #434B5C;\n",
       "    box-shadow: 0px 1px 3px 1px rgba(0, 0, 0, 0.15);\n",
       "    filter: drop-shadow(0px 1px 2px rgba(0, 0, 0, 0.3));\n",
       "    fill: #FFFFFF;\n",
       "  }\n",
       "</style>\n",
       "\n",
       "    <script>\n",
       "      async function quickchart(key) {\n",
       "        const containerElement = document.querySelector('#' + key);\n",
       "        const charts = await google.colab.kernel.invokeFunction(\n",
       "            'suggestCharts', [key], {});\n",
       "      }\n",
       "    </script>\n",
       "\n",
       "      <script>\n",
       "\n",
       "function displayQuickchartButton(domScope) {\n",
       "  let quickchartButtonEl =\n",
       "    domScope.querySelector('#df-6296cdb0-647b-4e26-ac49-f4079a9b3361 button.colab-df-quickchart');\n",
       "  quickchartButtonEl.style.display =\n",
       "    google.colab.kernel.accessAllowed ? 'block' : 'none';\n",
       "}\n",
       "\n",
       "        displayQuickchartButton(document);\n",
       "      </script>\n",
       "      <style>\n",
       "    .colab-df-container {\n",
       "      display:flex;\n",
       "      flex-wrap:wrap;\n",
       "      gap: 12px;\n",
       "    }\n",
       "\n",
       "    .colab-df-convert {\n",
       "      background-color: #E8F0FE;\n",
       "      border: none;\n",
       "      border-radius: 50%;\n",
       "      cursor: pointer;\n",
       "      display: none;\n",
       "      fill: #1967D2;\n",
       "      height: 32px;\n",
       "      padding: 0 0 0 0;\n",
       "      width: 32px;\n",
       "    }\n",
       "\n",
       "    .colab-df-convert:hover {\n",
       "      background-color: #E2EBFA;\n",
       "      box-shadow: 0px 1px 2px rgba(60, 64, 67, 0.3), 0px 1px 3px 1px rgba(60, 64, 67, 0.15);\n",
       "      fill: #174EA6;\n",
       "    }\n",
       "\n",
       "    [theme=dark] .colab-df-convert {\n",
       "      background-color: #3B4455;\n",
       "      fill: #D2E3FC;\n",
       "    }\n",
       "\n",
       "    [theme=dark] .colab-df-convert:hover {\n",
       "      background-color: #434B5C;\n",
       "      box-shadow: 0px 1px 3px 1px rgba(0, 0, 0, 0.15);\n",
       "      filter: drop-shadow(0px 1px 2px rgba(0, 0, 0, 0.3));\n",
       "      fill: #FFFFFF;\n",
       "    }\n",
       "  </style>\n",
       "\n",
       "      <script>\n",
       "        const buttonEl =\n",
       "          document.querySelector('#df-7b314fbf-e568-49f4-a933-10f2e2296983 button.colab-df-convert');\n",
       "        buttonEl.style.display =\n",
       "          google.colab.kernel.accessAllowed ? 'block' : 'none';\n",
       "\n",
       "        async function convertToInteractive(key) {\n",
       "          const element = document.querySelector('#df-7b314fbf-e568-49f4-a933-10f2e2296983');\n",
       "          const dataTable =\n",
       "            await google.colab.kernel.invokeFunction('convertToInteractive',\n",
       "                                                     [key], {});\n",
       "          if (!dataTable) return;\n",
       "\n",
       "          const docLinkHtml = 'Like what you see? Visit the ' +\n",
       "            '<a target=\"_blank\" href=https://colab.research.google.com/notebooks/data_table.ipynb>data table notebook</a>'\n",
       "            + ' to learn more about interactive tables.';\n",
       "          element.innerHTML = '';\n",
       "          dataTable['output_type'] = 'display_data';\n",
       "          await google.colab.output.renderOutput(dataTable, element);\n",
       "          const docLink = document.createElement('div');\n",
       "          docLink.innerHTML = docLinkHtml;\n",
       "          element.appendChild(docLink);\n",
       "        }\n",
       "      </script>\n",
       "    </div>\n",
       "  </div>\n"
      ],
      "text/plain": [
       "                               reviewId          userName  Unnamed: 2  \\\n",
       "0  60df685b-c310-481a-b1a5-94cad1a3c335        Raj Nandha         NaN   \n",
       "1  f5edb45a-2dd8-4171-a106-656bc547fafa         Namrata M         NaN   \n",
       "2  3fcb31f2-9c25-48cc-b7a4-d199778ba010  Moh'd Saif Ullah         NaN   \n",
       "3  419c9c09-09c1-468b-8fe5-162d6d06007c       John Vankal         NaN   \n",
       "4  ce63efba-dd25-4c35-b610-60a85a79e3ca    Yogesh Hablani         NaN   \n",
       "\n",
       "                                             content  score  thumbsUpCount  \\\n",
       "0  Paytm's user interface (UI) is a disappointing...      1           1783   \n",
       "1  I have been auto logged out from Paytm and I'm...      2           3209   \n",
       "2  Update: As requested contacted the developers ...      1            557   \n",
       "3  if you use a rooted phone, don't update it. (t...      3            390   \n",
       "4  When the app works property it's a good experi...      2             11   \n",
       "\n",
       "  reviewCreatedVersion               at  \\\n",
       "0              10.28.3    7/5/2023 6:15   \n",
       "1               9.13.7  6/25/2023 20:19   \n",
       "2               9.13.7    7/4/2023 3:49   \n",
       "3              10.28.3  6/28/2023 14:44   \n",
       "4              10.28.3   7/16/2023 5:38   \n",
       "\n",
       "                                        replyContent        repliedAt  \\\n",
       "0  Hi Raj! We’d like to take a closer look and he...    7/5/2023 6:23   \n",
       "1  Please write to us at app.feedback@paytm.com. ...  6/21/2023 21:36   \n",
       "2  Please write to us at app.feedback@paytm.com. ...  6/25/2023 18:47   \n",
       "3  Please write to us at app.feedback@paytm.com. ...  1/21/2023 21:11   \n",
       "4                                                NaN              NaN   \n",
       "\n",
       "  appVersion  \n",
       "0    10.28.3  \n",
       "1     9.13.7  \n",
       "2     9.13.7  \n",
       "3    10.28.3  \n",
       "4    10.28.3  "
      ]
     },
     "execution_count": 238,
     "metadata": {},
     "output_type": "execute_result"
    }
   ],
   "source": [
    "paytm_data.head()"
   ]
  },
  {
   "cell_type": "code",
   "execution_count": 239,
   "metadata": {
    "colab": {
     "base_uri": "https://localhost:8080/",
     "height": 354
    },
    "id": "9KdyzfksRKXJ",
    "outputId": "b7cfe483-a972-4f77-cefd-84e9723e981c"
   },
   "outputs": [
    {
     "data": {
      "text/html": [
       "\n",
       "\n",
       "  <div id=\"df-0014db44-7902-4ff7-a6be-aaad57a59c7b\">\n",
       "    <div class=\"colab-df-container\">\n",
       "      <div>\n",
       "<style scoped>\n",
       "    .dataframe tbody tr th:only-of-type {\n",
       "        vertical-align: middle;\n",
       "    }\n",
       "\n",
       "    .dataframe tbody tr th {\n",
       "        vertical-align: top;\n",
       "    }\n",
       "\n",
       "    .dataframe thead th {\n",
       "        text-align: right;\n",
       "    }\n",
       "</style>\n",
       "<table border=\"1\" class=\"dataframe\">\n",
       "  <thead>\n",
       "    <tr style=\"text-align: right;\">\n",
       "      <th></th>\n",
       "      <th>reviewId</th>\n",
       "      <th>userName</th>\n",
       "      <th>Unnamed: 2</th>\n",
       "      <th>content</th>\n",
       "      <th>score</th>\n",
       "      <th>thumbsUpCount</th>\n",
       "      <th>reviewCreatedVersion</th>\n",
       "      <th>at</th>\n",
       "      <th>replyContent</th>\n",
       "      <th>repliedAt</th>\n",
       "      <th>appVersion</th>\n",
       "    </tr>\n",
       "  </thead>\n",
       "  <tbody>\n",
       "    <tr>\n",
       "      <th>0</th>\n",
       "      <td>297ae930-eccc-4db8-b0e7-0a9815a2d3e8</td>\n",
       "      <td>Lidhiya Joice</td>\n",
       "      <td>NaN</td>\n",
       "      <td>Using this app for a long time. The features g...</td>\n",
       "      <td>2</td>\n",
       "      <td>9471</td>\n",
       "      <td>23.05.13.0.4</td>\n",
       "      <td>6/5/2023 2:30</td>\n",
       "      <td>Hello, Lidhiya. At PhonePe, transactions are i...</td>\n",
       "      <td>6/5/2023 3:04</td>\n",
       "      <td>23.05.13.0.4</td>\n",
       "    </tr>\n",
       "    <tr>\n",
       "      <th>1</th>\n",
       "      <td>63cf0ace-8b48-4e96-8ef9-ecc4f3a5d6dd</td>\n",
       "      <td>Sagar S</td>\n",
       "      <td>NaN</td>\n",
       "      <td>One of the best payment apps in India! The UI ...</td>\n",
       "      <td>4</td>\n",
       "      <td>22083</td>\n",
       "      <td>4.1.47</td>\n",
       "      <td>3/9/2023 20:53</td>\n",
       "      <td>We are sorry to hear this, Sagar. Could you pl...</td>\n",
       "      <td>2/27/2023 7:03</td>\n",
       "      <td>4.1.47</td>\n",
       "    </tr>\n",
       "    <tr>\n",
       "      <th>2</th>\n",
       "      <td>94937a72-a557-4096-a0e1-dc46c32f903e</td>\n",
       "      <td>Sanjeev Jikamade</td>\n",
       "      <td>NaN</td>\n",
       "      <td>Annoying recharge popup which requires 2 taps ...</td>\n",
       "      <td>2</td>\n",
       "      <td>18190</td>\n",
       "      <td>4.1.46</td>\n",
       "      <td>3/1/2023 7:47</td>\n",
       "      <td>Hello Sanjeev! We understand your concern. You...</td>\n",
       "      <td>3/1/2023 7:56</td>\n",
       "      <td>4.1.46</td>\n",
       "    </tr>\n",
       "    <tr>\n",
       "      <th>3</th>\n",
       "      <td>dfaea4ab-b551-4e24-ba2f-c638097d1a60</td>\n",
       "      <td>Vaibhav Bhagat</td>\n",
       "      <td>NaN</td>\n",
       "      <td>I'm a visually impaired user who uses PhonePe ...</td>\n",
       "      <td>3</td>\n",
       "      <td>10016</td>\n",
       "      <td>4.1.46</td>\n",
       "      <td>2/16/2023 16:11</td>\n",
       "      <td>Thank you for reaching out to us with your val...</td>\n",
       "      <td>2/16/2023 16:50</td>\n",
       "      <td>4.1.46</td>\n",
       "    </tr>\n",
       "    <tr>\n",
       "      <th>4</th>\n",
       "      <td>8a63504e-55fc-44f5-84b7-614b0ac2cfb5</td>\n",
       "      <td>Maimona Begum</td>\n",
       "      <td>NaN</td>\n",
       "      <td>The UI is smooth and also works with weak data...</td>\n",
       "      <td>4</td>\n",
       "      <td>1762</td>\n",
       "      <td>4.1.46</td>\n",
       "      <td>2/25/2023 14:31</td>\n",
       "      <td>Hi. We’re sorry to know that your experience w...</td>\n",
       "      <td>2/25/2023 14:45</td>\n",
       "      <td>4.1.46</td>\n",
       "    </tr>\n",
       "  </tbody>\n",
       "</table>\n",
       "</div>\n",
       "      <button class=\"colab-df-convert\" onclick=\"convertToInteractive('df-0014db44-7902-4ff7-a6be-aaad57a59c7b')\"\n",
       "              title=\"Convert this dataframe to an interactive table.\"\n",
       "              style=\"display:none;\">\n",
       "\n",
       "  <svg xmlns=\"http://www.w3.org/2000/svg\" height=\"24px\"viewBox=\"0 0 24 24\"\n",
       "       width=\"24px\">\n",
       "    <path d=\"M0 0h24v24H0V0z\" fill=\"none\"/>\n",
       "    <path d=\"M18.56 5.44l.94 2.06.94-2.06 2.06-.94-2.06-.94-.94-2.06-.94 2.06-2.06.94zm-11 1L8.5 8.5l.94-2.06 2.06-.94-2.06-.94L8.5 2.5l-.94 2.06-2.06.94zm10 10l.94 2.06.94-2.06 2.06-.94-2.06-.94-.94-2.06-.94 2.06-2.06.94z\"/><path d=\"M17.41 7.96l-1.37-1.37c-.4-.4-.92-.59-1.43-.59-.52 0-1.04.2-1.43.59L10.3 9.45l-7.72 7.72c-.78.78-.78 2.05 0 2.83L4 21.41c.39.39.9.59 1.41.59.51 0 1.02-.2 1.41-.59l7.78-7.78 2.81-2.81c.8-.78.8-2.07 0-2.86zM5.41 20L4 18.59l7.72-7.72 1.47 1.35L5.41 20z\"/>\n",
       "  </svg>\n",
       "      </button>\n",
       "\n",
       "\n",
       "\n",
       "    <div id=\"df-eb6c20a9-fdb1-417b-9ecc-17f692c3e9df\">\n",
       "      <button class=\"colab-df-quickchart\" onclick=\"quickchart('df-eb6c20a9-fdb1-417b-9ecc-17f692c3e9df')\"\n",
       "              title=\"Suggest charts.\"\n",
       "              style=\"display:none;\">\n",
       "\n",
       "<svg xmlns=\"http://www.w3.org/2000/svg\" height=\"24px\"viewBox=\"0 0 24 24\"\n",
       "     width=\"24px\">\n",
       "    <g>\n",
       "        <path d=\"M19 3H5c-1.1 0-2 .9-2 2v14c0 1.1.9 2 2 2h14c1.1 0 2-.9 2-2V5c0-1.1-.9-2-2-2zM9 17H7v-7h2v7zm4 0h-2V7h2v10zm4 0h-2v-4h2v4z\"/>\n",
       "    </g>\n",
       "</svg>\n",
       "      </button>\n",
       "    </div>\n",
       "\n",
       "<style>\n",
       "  .colab-df-quickchart {\n",
       "    background-color: #E8F0FE;\n",
       "    border: none;\n",
       "    border-radius: 50%;\n",
       "    cursor: pointer;\n",
       "    display: none;\n",
       "    fill: #1967D2;\n",
       "    height: 32px;\n",
       "    padding: 0 0 0 0;\n",
       "    width: 32px;\n",
       "  }\n",
       "\n",
       "  .colab-df-quickchart:hover {\n",
       "    background-color: #E2EBFA;\n",
       "    box-shadow: 0px 1px 2px rgba(60, 64, 67, 0.3), 0px 1px 3px 1px rgba(60, 64, 67, 0.15);\n",
       "    fill: #174EA6;\n",
       "  }\n",
       "\n",
       "  [theme=dark] .colab-df-quickchart {\n",
       "    background-color: #3B4455;\n",
       "    fill: #D2E3FC;\n",
       "  }\n",
       "\n",
       "  [theme=dark] .colab-df-quickchart:hover {\n",
       "    background-color: #434B5C;\n",
       "    box-shadow: 0px 1px 3px 1px rgba(0, 0, 0, 0.15);\n",
       "    filter: drop-shadow(0px 1px 2px rgba(0, 0, 0, 0.3));\n",
       "    fill: #FFFFFF;\n",
       "  }\n",
       "</style>\n",
       "\n",
       "    <script>\n",
       "      async function quickchart(key) {\n",
       "        const containerElement = document.querySelector('#' + key);\n",
       "        const charts = await google.colab.kernel.invokeFunction(\n",
       "            'suggestCharts', [key], {});\n",
       "      }\n",
       "    </script>\n",
       "\n",
       "      <script>\n",
       "\n",
       "function displayQuickchartButton(domScope) {\n",
       "  let quickchartButtonEl =\n",
       "    domScope.querySelector('#df-eb6c20a9-fdb1-417b-9ecc-17f692c3e9df button.colab-df-quickchart');\n",
       "  quickchartButtonEl.style.display =\n",
       "    google.colab.kernel.accessAllowed ? 'block' : 'none';\n",
       "}\n",
       "\n",
       "        displayQuickchartButton(document);\n",
       "      </script>\n",
       "      <style>\n",
       "    .colab-df-container {\n",
       "      display:flex;\n",
       "      flex-wrap:wrap;\n",
       "      gap: 12px;\n",
       "    }\n",
       "\n",
       "    .colab-df-convert {\n",
       "      background-color: #E8F0FE;\n",
       "      border: none;\n",
       "      border-radius: 50%;\n",
       "      cursor: pointer;\n",
       "      display: none;\n",
       "      fill: #1967D2;\n",
       "      height: 32px;\n",
       "      padding: 0 0 0 0;\n",
       "      width: 32px;\n",
       "    }\n",
       "\n",
       "    .colab-df-convert:hover {\n",
       "      background-color: #E2EBFA;\n",
       "      box-shadow: 0px 1px 2px rgba(60, 64, 67, 0.3), 0px 1px 3px 1px rgba(60, 64, 67, 0.15);\n",
       "      fill: #174EA6;\n",
       "    }\n",
       "\n",
       "    [theme=dark] .colab-df-convert {\n",
       "      background-color: #3B4455;\n",
       "      fill: #D2E3FC;\n",
       "    }\n",
       "\n",
       "    [theme=dark] .colab-df-convert:hover {\n",
       "      background-color: #434B5C;\n",
       "      box-shadow: 0px 1px 3px 1px rgba(0, 0, 0, 0.15);\n",
       "      filter: drop-shadow(0px 1px 2px rgba(0, 0, 0, 0.3));\n",
       "      fill: #FFFFFF;\n",
       "    }\n",
       "  </style>\n",
       "\n",
       "      <script>\n",
       "        const buttonEl =\n",
       "          document.querySelector('#df-0014db44-7902-4ff7-a6be-aaad57a59c7b button.colab-df-convert');\n",
       "        buttonEl.style.display =\n",
       "          google.colab.kernel.accessAllowed ? 'block' : 'none';\n",
       "\n",
       "        async function convertToInteractive(key) {\n",
       "          const element = document.querySelector('#df-0014db44-7902-4ff7-a6be-aaad57a59c7b');\n",
       "          const dataTable =\n",
       "            await google.colab.kernel.invokeFunction('convertToInteractive',\n",
       "                                                     [key], {});\n",
       "          if (!dataTable) return;\n",
       "\n",
       "          const docLinkHtml = 'Like what you see? Visit the ' +\n",
       "            '<a target=\"_blank\" href=https://colab.research.google.com/notebooks/data_table.ipynb>data table notebook</a>'\n",
       "            + ' to learn more about interactive tables.';\n",
       "          element.innerHTML = '';\n",
       "          dataTable['output_type'] = 'display_data';\n",
       "          await google.colab.output.renderOutput(dataTable, element);\n",
       "          const docLink = document.createElement('div');\n",
       "          docLink.innerHTML = docLinkHtml;\n",
       "          element.appendChild(docLink);\n",
       "        }\n",
       "      </script>\n",
       "    </div>\n",
       "  </div>\n"
      ],
      "text/plain": [
       "                               reviewId          userName  Unnamed: 2  \\\n",
       "0  297ae930-eccc-4db8-b0e7-0a9815a2d3e8     Lidhiya Joice         NaN   \n",
       "1  63cf0ace-8b48-4e96-8ef9-ecc4f3a5d6dd           Sagar S         NaN   \n",
       "2  94937a72-a557-4096-a0e1-dc46c32f903e  Sanjeev Jikamade         NaN   \n",
       "3  dfaea4ab-b551-4e24-ba2f-c638097d1a60    Vaibhav Bhagat         NaN   \n",
       "4  8a63504e-55fc-44f5-84b7-614b0ac2cfb5     Maimona Begum         NaN   \n",
       "\n",
       "                                             content  score  thumbsUpCount  \\\n",
       "0  Using this app for a long time. The features g...      2           9471   \n",
       "1  One of the best payment apps in India! The UI ...      4          22083   \n",
       "2  Annoying recharge popup which requires 2 taps ...      2          18190   \n",
       "3  I'm a visually impaired user who uses PhonePe ...      3          10016   \n",
       "4  The UI is smooth and also works with weak data...      4           1762   \n",
       "\n",
       "  reviewCreatedVersion               at  \\\n",
       "0         23.05.13.0.4    6/5/2023 2:30   \n",
       "1               4.1.47   3/9/2023 20:53   \n",
       "2               4.1.46    3/1/2023 7:47   \n",
       "3               4.1.46  2/16/2023 16:11   \n",
       "4               4.1.46  2/25/2023 14:31   \n",
       "\n",
       "                                        replyContent        repliedAt  \\\n",
       "0  Hello, Lidhiya. At PhonePe, transactions are i...    6/5/2023 3:04   \n",
       "1  We are sorry to hear this, Sagar. Could you pl...   2/27/2023 7:03   \n",
       "2  Hello Sanjeev! We understand your concern. You...    3/1/2023 7:56   \n",
       "3  Thank you for reaching out to us with your val...  2/16/2023 16:50   \n",
       "4  Hi. We’re sorry to know that your experience w...  2/25/2023 14:45   \n",
       "\n",
       "     appVersion  \n",
       "0  23.05.13.0.4  \n",
       "1        4.1.47  \n",
       "2        4.1.46  \n",
       "3        4.1.46  \n",
       "4        4.1.46  "
      ]
     },
     "execution_count": 239,
     "metadata": {},
     "output_type": "execute_result"
    }
   ],
   "source": [
    "phonepe_data.head()"
   ]
  },
  {
   "cell_type": "markdown",
   "metadata": {
    "id": "W-Gd-OFTD3n_"
   },
   "source": [
    "## **Feature Engineering** of GPay Data\n",
    "\n"
   ]
  },
  {
   "cell_type": "code",
   "execution_count": 240,
   "metadata": {
    "id": "hUjaiUTrdT92"
   },
   "outputs": [],
   "source": [
    "google_data['at'] = pd.to_datetime(google_data['at'])"
   ]
  },
  {
   "cell_type": "code",
   "execution_count": 241,
   "metadata": {
    "id": "llrbDP2td5oS"
   },
   "outputs": [],
   "source": [
    "google_data['date'] = google_data['at'].dt.date"
   ]
  },
  {
   "cell_type": "markdown",
   "metadata": {
    "id": "3cziNLbnPWr1"
   },
   "source": [
    " finding all the NaN Values in Google dataset"
   ]
  },
  {
   "cell_type": "code",
   "execution_count": 242,
   "metadata": {
    "colab": {
     "base_uri": "https://localhost:8080/"
    },
    "id": "PhUIxNesPX_2",
    "outputId": "7641cc69-5925-43af-853f-339d35c742cc"
   },
   "outputs": [
    {
     "data": {
      "text/plain": [
       "reviewId                        object\n",
       "userName                        object\n",
       "Unnamed: 2                     float64\n",
       "content                         object\n",
       "score                            int64\n",
       "thumbsUpCount                    int64\n",
       "reviewCreatedVersion            object\n",
       "at                      datetime64[ns]\n",
       "replyContent                    object\n",
       "repliedAt                       object\n",
       "appVersion                      object\n",
       "date                            object\n",
       "dtype: object"
      ]
     },
     "execution_count": 242,
     "metadata": {},
     "output_type": "execute_result"
    }
   ],
   "source": [
    "google_data.dtypes\n"
   ]
  },
  {
   "cell_type": "markdown",
   "metadata": {
    "id": "va8kO0gwRkxD"
   },
   "source": [
    "Thing to note here is while 'score' is a numerical value, its still a categorical variable."
   ]
  },
  {
   "cell_type": "code",
   "execution_count": 243,
   "metadata": {
    "colab": {
     "base_uri": "https://localhost:8080/"
    },
    "id": "Xl8Oi_7wSV7d",
    "outputId": "7a1eb249-3046-4add-f9b6-f06e1396d369"
   },
   "outputs": [
    {
     "data": {
      "text/plain": [
       "reviewId                    0\n",
       "userName                    0\n",
       "Unnamed: 2              40000\n",
       "content                     0\n",
       "score                       0\n",
       "thumbsUpCount               0\n",
       "reviewCreatedVersion     3700\n",
       "at                          0\n",
       "replyContent            16604\n",
       "repliedAt               16604\n",
       "appVersion               3700\n",
       "date                        0\n",
       "dtype: int64"
      ]
     },
     "execution_count": 243,
     "metadata": {},
     "output_type": "execute_result"
    }
   ],
   "source": [
    "google_data.isnull().sum()"
   ]
  },
  {
   "cell_type": "markdown",
   "metadata": {
    "id": "MDbHEyPIQ4NX"
   },
   "source": [
    "We can see numerical value(thumbsUpCount, score) doesnt have null values, while null value in (replyContent, repliedAt) indicates about 16k reviews dont have a reply. While null values in (reviewCreatedVersion)\n",
    ",appVersion are missing in data."
   ]
  },
  {
   "cell_type": "code",
   "execution_count": 244,
   "metadata": {
    "id": "WZosqG96TS6D"
   },
   "outputs": [],
   "source": [
    "google_data.drop('Unnamed: 2', axis = 'columns', inplace = True)  #removing unnamed empty column\n"
   ]
  },
  {
   "cell_type": "code",
   "execution_count": 245,
   "metadata": {
    "id": "9yvgoLE8kudH"
   },
   "outputs": [],
   "source": [
    "google_data.drop('at', axis = 'columns', inplace = True)"
   ]
  },
  {
   "cell_type": "markdown",
   "metadata": {
    "id": "X6JYrBGYKACK"
   },
   "source": [
    "Since 'reviewCreatedVersion' and 'appVersion' represents same info. we will drop one of them"
   ]
  },
  {
   "cell_type": "code",
   "execution_count": 246,
   "metadata": {
    "id": "J94I4iKpaITK"
   },
   "outputs": [],
   "source": [
    "google_data.drop('reviewCreatedVersion', axis = 'columns', inplace = True)"
   ]
  },
  {
   "cell_type": "code",
   "execution_count": 247,
   "metadata": {
    "id": "iVsyKQqLmQU2"
   },
   "outputs": [],
   "source": [
    "google_data.drop('repliedAt', axis = 'columns', inplace = True)"
   ]
  },
  {
   "cell_type": "code",
   "execution_count": 248,
   "metadata": {
    "colab": {
     "base_uri": "https://localhost:8080/",
     "height": 206
    },
    "id": "EZCP-0JkV0ei",
    "outputId": "c0808119-e877-4f47-f5e2-3b4ba8a79271"
   },
   "outputs": [
    {
     "data": {
      "text/html": [
       "\n",
       "\n",
       "  <div id=\"df-95f81885-0805-4713-8ffd-477748c812ec\">\n",
       "    <div class=\"colab-df-container\">\n",
       "      <div>\n",
       "<style scoped>\n",
       "    .dataframe tbody tr th:only-of-type {\n",
       "        vertical-align: middle;\n",
       "    }\n",
       "\n",
       "    .dataframe tbody tr th {\n",
       "        vertical-align: top;\n",
       "    }\n",
       "\n",
       "    .dataframe thead th {\n",
       "        text-align: right;\n",
       "    }\n",
       "</style>\n",
       "<table border=\"1\" class=\"dataframe\">\n",
       "  <thead>\n",
       "    <tr style=\"text-align: right;\">\n",
       "      <th></th>\n",
       "      <th>reviewId</th>\n",
       "      <th>userName</th>\n",
       "      <th>content</th>\n",
       "      <th>score</th>\n",
       "      <th>thumbsUpCount</th>\n",
       "      <th>replyContent</th>\n",
       "      <th>appVersion</th>\n",
       "      <th>date</th>\n",
       "    </tr>\n",
       "  </thead>\n",
       "  <tbody>\n",
       "    <tr>\n",
       "      <th>1303</th>\n",
       "      <td>ef389c04-7b38-40da-b1b1-3b45621fa905</td>\n",
       "      <td>Crystal Lee</td>\n",
       "      <td>I'm really bummed out about the user experienc...</td>\n",
       "      <td>1</td>\n",
       "      <td>0</td>\n",
       "      <td>NaN</td>\n",
       "      <td>NaN</td>\n",
       "      <td>2023-05-07</td>\n",
       "    </tr>\n",
       "    <tr>\n",
       "      <th>1593</th>\n",
       "      <td>c84459c8-ad5b-498a-bf39-31d0de085c18</td>\n",
       "      <td>Sakthi Prakash MP</td>\n",
       "      <td>Google Pay has been a delightful payment app. ...</td>\n",
       "      <td>5</td>\n",
       "      <td>6</td>\n",
       "      <td>NaN</td>\n",
       "      <td>NaN</td>\n",
       "      <td>2023-07-03</td>\n",
       "    </tr>\n",
       "    <tr>\n",
       "      <th>1660</th>\n",
       "      <td>cbe923ee-795d-4968-bbf1-add005361479</td>\n",
       "      <td>Hot Mike</td>\n",
       "      <td>I had to uninstall Google Pay and Google Walle...</td>\n",
       "      <td>1</td>\n",
       "      <td>0</td>\n",
       "      <td>NaN</td>\n",
       "      <td>NaN</td>\n",
       "      <td>2023-07-12</td>\n",
       "    </tr>\n",
       "    <tr>\n",
       "      <th>1745</th>\n",
       "      <td>6fb16383-17a7-4ac1-9b07-10cb50ac81bf</td>\n",
       "      <td>Robert Halverson</td>\n",
       "      <td>No phone support. I added the app and then tri...</td>\n",
       "      <td>1</td>\n",
       "      <td>0</td>\n",
       "      <td>Sorry to hear that, Robert. You can add a debi...</td>\n",
       "      <td>NaN</td>\n",
       "      <td>2023-05-13</td>\n",
       "    </tr>\n",
       "    <tr>\n",
       "      <th>2103</th>\n",
       "      <td>554a9ae2-4847-46a4-a9c4-beea3a762820</td>\n",
       "      <td>xoSkyCloudss :p</td>\n",
       "      <td>I stored all my gift cards here for convenienc...</td>\n",
       "      <td>2</td>\n",
       "      <td>1</td>\n",
       "      <td>Regret the inconvenience. Please ensure that y...</td>\n",
       "      <td>NaN</td>\n",
       "      <td>2023-02-06</td>\n",
       "    </tr>\n",
       "  </tbody>\n",
       "</table>\n",
       "</div>\n",
       "      <button class=\"colab-df-convert\" onclick=\"convertToInteractive('df-95f81885-0805-4713-8ffd-477748c812ec')\"\n",
       "              title=\"Convert this dataframe to an interactive table.\"\n",
       "              style=\"display:none;\">\n",
       "\n",
       "  <svg xmlns=\"http://www.w3.org/2000/svg\" height=\"24px\"viewBox=\"0 0 24 24\"\n",
       "       width=\"24px\">\n",
       "    <path d=\"M0 0h24v24H0V0z\" fill=\"none\"/>\n",
       "    <path d=\"M18.56 5.44l.94 2.06.94-2.06 2.06-.94-2.06-.94-.94-2.06-.94 2.06-2.06.94zm-11 1L8.5 8.5l.94-2.06 2.06-.94-2.06-.94L8.5 2.5l-.94 2.06-2.06.94zm10 10l.94 2.06.94-2.06 2.06-.94-2.06-.94-.94-2.06-.94 2.06-2.06.94z\"/><path d=\"M17.41 7.96l-1.37-1.37c-.4-.4-.92-.59-1.43-.59-.52 0-1.04.2-1.43.59L10.3 9.45l-7.72 7.72c-.78.78-.78 2.05 0 2.83L4 21.41c.39.39.9.59 1.41.59.51 0 1.02-.2 1.41-.59l7.78-7.78 2.81-2.81c.8-.78.8-2.07 0-2.86zM5.41 20L4 18.59l7.72-7.72 1.47 1.35L5.41 20z\"/>\n",
       "  </svg>\n",
       "      </button>\n",
       "\n",
       "\n",
       "\n",
       "    <div id=\"df-7f704766-9416-46f1-92a3-8598cb6070a3\">\n",
       "      <button class=\"colab-df-quickchart\" onclick=\"quickchart('df-7f704766-9416-46f1-92a3-8598cb6070a3')\"\n",
       "              title=\"Suggest charts.\"\n",
       "              style=\"display:none;\">\n",
       "\n",
       "<svg xmlns=\"http://www.w3.org/2000/svg\" height=\"24px\"viewBox=\"0 0 24 24\"\n",
       "     width=\"24px\">\n",
       "    <g>\n",
       "        <path d=\"M19 3H5c-1.1 0-2 .9-2 2v14c0 1.1.9 2 2 2h14c1.1 0 2-.9 2-2V5c0-1.1-.9-2-2-2zM9 17H7v-7h2v7zm4 0h-2V7h2v10zm4 0h-2v-4h2v4z\"/>\n",
       "    </g>\n",
       "</svg>\n",
       "      </button>\n",
       "    </div>\n",
       "\n",
       "<style>\n",
       "  .colab-df-quickchart {\n",
       "    background-color: #E8F0FE;\n",
       "    border: none;\n",
       "    border-radius: 50%;\n",
       "    cursor: pointer;\n",
       "    display: none;\n",
       "    fill: #1967D2;\n",
       "    height: 32px;\n",
       "    padding: 0 0 0 0;\n",
       "    width: 32px;\n",
       "  }\n",
       "\n",
       "  .colab-df-quickchart:hover {\n",
       "    background-color: #E2EBFA;\n",
       "    box-shadow: 0px 1px 2px rgba(60, 64, 67, 0.3), 0px 1px 3px 1px rgba(60, 64, 67, 0.15);\n",
       "    fill: #174EA6;\n",
       "  }\n",
       "\n",
       "  [theme=dark] .colab-df-quickchart {\n",
       "    background-color: #3B4455;\n",
       "    fill: #D2E3FC;\n",
       "  }\n",
       "\n",
       "  [theme=dark] .colab-df-quickchart:hover {\n",
       "    background-color: #434B5C;\n",
       "    box-shadow: 0px 1px 3px 1px rgba(0, 0, 0, 0.15);\n",
       "    filter: drop-shadow(0px 1px 2px rgba(0, 0, 0, 0.3));\n",
       "    fill: #FFFFFF;\n",
       "  }\n",
       "</style>\n",
       "\n",
       "    <script>\n",
       "      async function quickchart(key) {\n",
       "        const containerElement = document.querySelector('#' + key);\n",
       "        const charts = await google.colab.kernel.invokeFunction(\n",
       "            'suggestCharts', [key], {});\n",
       "      }\n",
       "    </script>\n",
       "\n",
       "      <script>\n",
       "\n",
       "function displayQuickchartButton(domScope) {\n",
       "  let quickchartButtonEl =\n",
       "    domScope.querySelector('#df-7f704766-9416-46f1-92a3-8598cb6070a3 button.colab-df-quickchart');\n",
       "  quickchartButtonEl.style.display =\n",
       "    google.colab.kernel.accessAllowed ? 'block' : 'none';\n",
       "}\n",
       "\n",
       "        displayQuickchartButton(document);\n",
       "      </script>\n",
       "      <style>\n",
       "    .colab-df-container {\n",
       "      display:flex;\n",
       "      flex-wrap:wrap;\n",
       "      gap: 12px;\n",
       "    }\n",
       "\n",
       "    .colab-df-convert {\n",
       "      background-color: #E8F0FE;\n",
       "      border: none;\n",
       "      border-radius: 50%;\n",
       "      cursor: pointer;\n",
       "      display: none;\n",
       "      fill: #1967D2;\n",
       "      height: 32px;\n",
       "      padding: 0 0 0 0;\n",
       "      width: 32px;\n",
       "    }\n",
       "\n",
       "    .colab-df-convert:hover {\n",
       "      background-color: #E2EBFA;\n",
       "      box-shadow: 0px 1px 2px rgba(60, 64, 67, 0.3), 0px 1px 3px 1px rgba(60, 64, 67, 0.15);\n",
       "      fill: #174EA6;\n",
       "    }\n",
       "\n",
       "    [theme=dark] .colab-df-convert {\n",
       "      background-color: #3B4455;\n",
       "      fill: #D2E3FC;\n",
       "    }\n",
       "\n",
       "    [theme=dark] .colab-df-convert:hover {\n",
       "      background-color: #434B5C;\n",
       "      box-shadow: 0px 1px 3px 1px rgba(0, 0, 0, 0.15);\n",
       "      filter: drop-shadow(0px 1px 2px rgba(0, 0, 0, 0.3));\n",
       "      fill: #FFFFFF;\n",
       "    }\n",
       "  </style>\n",
       "\n",
       "      <script>\n",
       "        const buttonEl =\n",
       "          document.querySelector('#df-95f81885-0805-4713-8ffd-477748c812ec button.colab-df-convert');\n",
       "        buttonEl.style.display =\n",
       "          google.colab.kernel.accessAllowed ? 'block' : 'none';\n",
       "\n",
       "        async function convertToInteractive(key) {\n",
       "          const element = document.querySelector('#df-95f81885-0805-4713-8ffd-477748c812ec');\n",
       "          const dataTable =\n",
       "            await google.colab.kernel.invokeFunction('convertToInteractive',\n",
       "                                                     [key], {});\n",
       "          if (!dataTable) return;\n",
       "\n",
       "          const docLinkHtml = 'Like what you see? Visit the ' +\n",
       "            '<a target=\"_blank\" href=https://colab.research.google.com/notebooks/data_table.ipynb>data table notebook</a>'\n",
       "            + ' to learn more about interactive tables.';\n",
       "          element.innerHTML = '';\n",
       "          dataTable['output_type'] = 'display_data';\n",
       "          await google.colab.output.renderOutput(dataTable, element);\n",
       "          const docLink = document.createElement('div');\n",
       "          docLink.innerHTML = docLinkHtml;\n",
       "          element.appendChild(docLink);\n",
       "        }\n",
       "      </script>\n",
       "    </div>\n",
       "  </div>\n"
      ],
      "text/plain": [
       "                                  reviewId           userName  \\\n",
       "1303  ef389c04-7b38-40da-b1b1-3b45621fa905        Crystal Lee   \n",
       "1593  c84459c8-ad5b-498a-bf39-31d0de085c18  Sakthi Prakash MP   \n",
       "1660  cbe923ee-795d-4968-bbf1-add005361479           Hot Mike   \n",
       "1745  6fb16383-17a7-4ac1-9b07-10cb50ac81bf   Robert Halverson   \n",
       "2103  554a9ae2-4847-46a4-a9c4-beea3a762820    xoSkyCloudss :p   \n",
       "\n",
       "                                                content  score  thumbsUpCount  \\\n",
       "1303  I'm really bummed out about the user experienc...      1              0   \n",
       "1593  Google Pay has been a delightful payment app. ...      5              6   \n",
       "1660  I had to uninstall Google Pay and Google Walle...      1              0   \n",
       "1745  No phone support. I added the app and then tri...      1              0   \n",
       "2103  I stored all my gift cards here for convenienc...      2              1   \n",
       "\n",
       "                                           replyContent appVersion        date  \n",
       "1303                                                NaN        NaN  2023-05-07  \n",
       "1593                                                NaN        NaN  2023-07-03  \n",
       "1660                                                NaN        NaN  2023-07-12  \n",
       "1745  Sorry to hear that, Robert. You can add a debi...        NaN  2023-05-13  \n",
       "2103  Regret the inconvenience. Please ensure that y...        NaN  2023-02-06  "
      ]
     },
     "execution_count": 248,
     "metadata": {},
     "output_type": "execute_result"
    }
   ],
   "source": [
    "google_data[google_data['appVersion'].isnull()].head()"
   ]
  },
  {
   "cell_type": "markdown",
   "metadata": {
    "id": "gkriE9QIdngk"
   },
   "source": [
    "now to fill appVersion values, we will loop through very row with null value, select date of that row, go through row having that particular date and select version which most occurring to replace with null value."
   ]
  },
  {
   "cell_type": "code",
   "execution_count": 249,
   "metadata": {
    "id": "YpXOWdXzXwO_"
   },
   "outputs": [],
   "source": [
    "null_mask = google_data['appVersion'].isnull()"
   ]
  },
  {
   "cell_type": "code",
   "execution_count": 250,
   "metadata": {
    "id": "fvBmF3jF13Tn"
   },
   "outputs": [],
   "source": [
    "for index,row in (google_data[null_mask].iterrows()):\n",
    "  count = google_data[google_data['date']==row['date']]['appVersion'].value_counts()\n",
    "  common = count.index[0]\n",
    "  google_data.loc[index, 'appVersion'] = common\n",
    "\n"
   ]
  },
  {
   "cell_type": "code",
   "execution_count": 251,
   "metadata": {
    "colab": {
     "base_uri": "https://localhost:8080/"
    },
    "id": "gBebz9qxmMEP",
    "outputId": "0cc37d59-8eef-4e48-fbe9-ae87306e6571"
   },
   "outputs": [
    {
     "data": {
      "text/plain": [
       "reviewId             0\n",
       "userName             0\n",
       "content              0\n",
       "score                0\n",
       "thumbsUpCount        0\n",
       "replyContent     16604\n",
       "appVersion           0\n",
       "date                 0\n",
       "dtype: int64"
      ]
     },
     "execution_count": 251,
     "metadata": {},
     "output_type": "execute_result"
    }
   ],
   "source": [
    "google_data.isnull().sum()"
   ]
  },
  {
   "cell_type": "code",
   "execution_count": 251,
   "metadata": {
    "id": "hHPezEnSQ36I"
   },
   "outputs": [],
   "source": []
  },
  {
   "cell_type": "markdown",
   "metadata": {
    "id": "xdLj3RDKQ6sJ"
   },
   "source": [
    "## **Feature Engineering** of Paytm Data\n",
    "\n"
   ]
  },
  {
   "cell_type": "code",
   "execution_count": 252,
   "metadata": {
    "id": "8eyhBwLAQ6sK"
   },
   "outputs": [],
   "source": [
    "paytm_data['at'] = pd.to_datetime(paytm_data['at'])"
   ]
  },
  {
   "cell_type": "code",
   "execution_count": 253,
   "metadata": {
    "id": "CsNShvaHQ6sL"
   },
   "outputs": [],
   "source": [
    "paytm_data['date'] = paytm_data['at'].dt.date"
   ]
  },
  {
   "cell_type": "markdown",
   "metadata": {
    "id": "pzvdzD-KQ6sL"
   },
   "source": [
    " finding all the NaN Values in paytm dataset"
   ]
  },
  {
   "cell_type": "code",
   "execution_count": 254,
   "metadata": {
    "colab": {
     "base_uri": "https://localhost:8080/"
    },
    "id": "HFa01YmVQ6sL",
    "outputId": "b962e013-2782-4d72-ca35-7e21db66f252"
   },
   "outputs": [
    {
     "data": {
      "text/plain": [
       "reviewId                        object\n",
       "userName                        object\n",
       "Unnamed: 2                     float64\n",
       "content                         object\n",
       "score                            int64\n",
       "thumbsUpCount                    int64\n",
       "reviewCreatedVersion            object\n",
       "at                      datetime64[ns]\n",
       "replyContent                    object\n",
       "repliedAt                       object\n",
       "appVersion                      object\n",
       "date                            object\n",
       "dtype: object"
      ]
     },
     "execution_count": 254,
     "metadata": {},
     "output_type": "execute_result"
    }
   ],
   "source": [
    "paytm_data.dtypes\n"
   ]
  },
  {
   "cell_type": "markdown",
   "metadata": {
    "id": "CHwizc9OQ6sM"
   },
   "source": [
    "Thing to note here is while 'score' is a numerical value, its still a categorical variable."
   ]
  },
  {
   "cell_type": "code",
   "execution_count": 255,
   "metadata": {
    "colab": {
     "base_uri": "https://localhost:8080/"
    },
    "id": "SOertc9_Q6sN",
    "outputId": "36f5cf63-7504-448c-c4f6-e369fa301d97"
   },
   "outputs": [
    {
     "data": {
      "text/plain": [
       "reviewId                    0\n",
       "userName                    0\n",
       "Unnamed: 2              40000\n",
       "content                     0\n",
       "score                       0\n",
       "thumbsUpCount               0\n",
       "reviewCreatedVersion     4980\n",
       "at                          0\n",
       "replyContent             9605\n",
       "repliedAt                9605\n",
       "appVersion               4980\n",
       "date                        0\n",
       "dtype: int64"
      ]
     },
     "execution_count": 255,
     "metadata": {},
     "output_type": "execute_result"
    }
   ],
   "source": [
    "paytm_data.isnull().sum()"
   ]
  },
  {
   "cell_type": "markdown",
   "metadata": {
    "id": "GW1WGeoCQ6sN"
   },
   "source": [
    "We can see numerical value(thumbsUpCount, score) doesnt have null values, while null value in (replyContent, repliedAt) indicates about 16k reviews dont have a reply. While null values in (reviewCreatedVersion)\n",
    ",appVersion are missing in data."
   ]
  },
  {
   "cell_type": "code",
   "execution_count": 256,
   "metadata": {
    "id": "2LRChkauQ6sO"
   },
   "outputs": [],
   "source": [
    "paytm_data.drop('Unnamed: 2', axis = 'columns', inplace = True)  #removing unnamed empty column\n"
   ]
  },
  {
   "cell_type": "code",
   "execution_count": 257,
   "metadata": {
    "id": "_48KwH1VQ6sO"
   },
   "outputs": [],
   "source": [
    "paytm_data.drop('at', axis = 'columns', inplace = True)"
   ]
  },
  {
   "cell_type": "markdown",
   "metadata": {
    "id": "QlcCnAZtQ6sP"
   },
   "source": [
    "Since 'reviewCreatedVersion' and 'appVersion' represents same info. we will drop one of them"
   ]
  },
  {
   "cell_type": "code",
   "execution_count": 258,
   "metadata": {
    "id": "gKjsjAmcQ6sQ"
   },
   "outputs": [],
   "source": [
    "paytm_data.drop('reviewCreatedVersion', axis = 'columns', inplace = True)"
   ]
  },
  {
   "cell_type": "code",
   "execution_count": 259,
   "metadata": {
    "id": "-78WIdDNmJOj"
   },
   "outputs": [],
   "source": [
    "paytm_data.drop('repliedAt', axis = 'columns', inplace = True)"
   ]
  },
  {
   "cell_type": "code",
   "execution_count": 260,
   "metadata": {
    "colab": {
     "base_uri": "https://localhost:8080/",
     "height": 206
    },
    "id": "9jpJZnv2Q6sQ",
    "outputId": "e33b8678-e9f8-4995-b5c3-d86dbeb6808e"
   },
   "outputs": [
    {
     "data": {
      "text/html": [
       "\n",
       "\n",
       "  <div id=\"df-309922cd-efd4-4ac4-b0e6-aa9d708c0bce\">\n",
       "    <div class=\"colab-df-container\">\n",
       "      <div>\n",
       "<style scoped>\n",
       "    .dataframe tbody tr th:only-of-type {\n",
       "        vertical-align: middle;\n",
       "    }\n",
       "\n",
       "    .dataframe tbody tr th {\n",
       "        vertical-align: top;\n",
       "    }\n",
       "\n",
       "    .dataframe thead th {\n",
       "        text-align: right;\n",
       "    }\n",
       "</style>\n",
       "<table border=\"1\" class=\"dataframe\">\n",
       "  <thead>\n",
       "    <tr style=\"text-align: right;\">\n",
       "      <th></th>\n",
       "      <th>reviewId</th>\n",
       "      <th>userName</th>\n",
       "      <th>content</th>\n",
       "      <th>score</th>\n",
       "      <th>thumbsUpCount</th>\n",
       "      <th>replyContent</th>\n",
       "      <th>appVersion</th>\n",
       "      <th>date</th>\n",
       "    </tr>\n",
       "  </thead>\n",
       "  <tbody>\n",
       "    <tr>\n",
       "      <th>2191</th>\n",
       "      <td>c065e2cc-737d-4c1e-bdf5-73e18b67d6c9</td>\n",
       "      <td>Tech Enthusiast</td>\n",
       "      <td>Worst interface and lack of user-friendly navi...</td>\n",
       "      <td>2</td>\n",
       "      <td>0</td>\n",
       "      <td>NaN</td>\n",
       "      <td>NaN</td>\n",
       "      <td>2023-03-16</td>\n",
       "    </tr>\n",
       "    <tr>\n",
       "      <th>2331</th>\n",
       "      <td>32818a8a-e7e2-4fc3-8e81-0860ebfd8242</td>\n",
       "      <td>Akhil</td>\n",
       "      <td>Great app! I mainly use it to book train ticke...</td>\n",
       "      <td>2</td>\n",
       "      <td>1</td>\n",
       "      <td>Hi Akhil, Thanks For Your Feedback! We’d like ...</td>\n",
       "      <td>NaN</td>\n",
       "      <td>2023-06-14</td>\n",
       "    </tr>\n",
       "    <tr>\n",
       "      <th>2619</th>\n",
       "      <td>71e6d118-731f-4c77-9cef-1a37b398d41a</td>\n",
       "      <td>Vikram Joshi</td>\n",
       "      <td>I cannot pay for anything. If I scan the QR co...</td>\n",
       "      <td>2</td>\n",
       "      <td>1</td>\n",
       "      <td>Hi! We’d like to take a closer look and help y...</td>\n",
       "      <td>NaN</td>\n",
       "      <td>2022-02-17</td>\n",
       "    </tr>\n",
       "    <tr>\n",
       "      <th>2620</th>\n",
       "      <td>e225cd71-c4da-415e-b09e-f390d6738d4c</td>\n",
       "      <td>Brensten Vaz</td>\n",
       "      <td>Revising my previous review. Transactions have...</td>\n",
       "      <td>5</td>\n",
       "      <td>0</td>\n",
       "      <td>Hi, we regret the inconvenience caused to you....</td>\n",
       "      <td>NaN</td>\n",
       "      <td>2023-02-09</td>\n",
       "    </tr>\n",
       "    <tr>\n",
       "      <th>3139</th>\n",
       "      <td>2d63d3d1-1ac4-4dd1-8e6d-a2186ad2846b</td>\n",
       "      <td>Karthik r s</td>\n",
       "      <td>Recently I have made a transaction from this a...</td>\n",
       "      <td>1</td>\n",
       "      <td>0</td>\n",
       "      <td>Hi, we regret the inconvenience caused to you....</td>\n",
       "      <td>NaN</td>\n",
       "      <td>2023-07-13</td>\n",
       "    </tr>\n",
       "  </tbody>\n",
       "</table>\n",
       "</div>\n",
       "      <button class=\"colab-df-convert\" onclick=\"convertToInteractive('df-309922cd-efd4-4ac4-b0e6-aa9d708c0bce')\"\n",
       "              title=\"Convert this dataframe to an interactive table.\"\n",
       "              style=\"display:none;\">\n",
       "\n",
       "  <svg xmlns=\"http://www.w3.org/2000/svg\" height=\"24px\"viewBox=\"0 0 24 24\"\n",
       "       width=\"24px\">\n",
       "    <path d=\"M0 0h24v24H0V0z\" fill=\"none\"/>\n",
       "    <path d=\"M18.56 5.44l.94 2.06.94-2.06 2.06-.94-2.06-.94-.94-2.06-.94 2.06-2.06.94zm-11 1L8.5 8.5l.94-2.06 2.06-.94-2.06-.94L8.5 2.5l-.94 2.06-2.06.94zm10 10l.94 2.06.94-2.06 2.06-.94-2.06-.94-.94-2.06-.94 2.06-2.06.94z\"/><path d=\"M17.41 7.96l-1.37-1.37c-.4-.4-.92-.59-1.43-.59-.52 0-1.04.2-1.43.59L10.3 9.45l-7.72 7.72c-.78.78-.78 2.05 0 2.83L4 21.41c.39.39.9.59 1.41.59.51 0 1.02-.2 1.41-.59l7.78-7.78 2.81-2.81c.8-.78.8-2.07 0-2.86zM5.41 20L4 18.59l7.72-7.72 1.47 1.35L5.41 20z\"/>\n",
       "  </svg>\n",
       "      </button>\n",
       "\n",
       "\n",
       "\n",
       "    <div id=\"df-7b4d5e71-983d-4c25-bc53-0f80e2381a39\">\n",
       "      <button class=\"colab-df-quickchart\" onclick=\"quickchart('df-7b4d5e71-983d-4c25-bc53-0f80e2381a39')\"\n",
       "              title=\"Suggest charts.\"\n",
       "              style=\"display:none;\">\n",
       "\n",
       "<svg xmlns=\"http://www.w3.org/2000/svg\" height=\"24px\"viewBox=\"0 0 24 24\"\n",
       "     width=\"24px\">\n",
       "    <g>\n",
       "        <path d=\"M19 3H5c-1.1 0-2 .9-2 2v14c0 1.1.9 2 2 2h14c1.1 0 2-.9 2-2V5c0-1.1-.9-2-2-2zM9 17H7v-7h2v7zm4 0h-2V7h2v10zm4 0h-2v-4h2v4z\"/>\n",
       "    </g>\n",
       "</svg>\n",
       "      </button>\n",
       "    </div>\n",
       "\n",
       "<style>\n",
       "  .colab-df-quickchart {\n",
       "    background-color: #E8F0FE;\n",
       "    border: none;\n",
       "    border-radius: 50%;\n",
       "    cursor: pointer;\n",
       "    display: none;\n",
       "    fill: #1967D2;\n",
       "    height: 32px;\n",
       "    padding: 0 0 0 0;\n",
       "    width: 32px;\n",
       "  }\n",
       "\n",
       "  .colab-df-quickchart:hover {\n",
       "    background-color: #E2EBFA;\n",
       "    box-shadow: 0px 1px 2px rgba(60, 64, 67, 0.3), 0px 1px 3px 1px rgba(60, 64, 67, 0.15);\n",
       "    fill: #174EA6;\n",
       "  }\n",
       "\n",
       "  [theme=dark] .colab-df-quickchart {\n",
       "    background-color: #3B4455;\n",
       "    fill: #D2E3FC;\n",
       "  }\n",
       "\n",
       "  [theme=dark] .colab-df-quickchart:hover {\n",
       "    background-color: #434B5C;\n",
       "    box-shadow: 0px 1px 3px 1px rgba(0, 0, 0, 0.15);\n",
       "    filter: drop-shadow(0px 1px 2px rgba(0, 0, 0, 0.3));\n",
       "    fill: #FFFFFF;\n",
       "  }\n",
       "</style>\n",
       "\n",
       "    <script>\n",
       "      async function quickchart(key) {\n",
       "        const containerElement = document.querySelector('#' + key);\n",
       "        const charts = await google.colab.kernel.invokeFunction(\n",
       "            'suggestCharts', [key], {});\n",
       "      }\n",
       "    </script>\n",
       "\n",
       "      <script>\n",
       "\n",
       "function displayQuickchartButton(domScope) {\n",
       "  let quickchartButtonEl =\n",
       "    domScope.querySelector('#df-7b4d5e71-983d-4c25-bc53-0f80e2381a39 button.colab-df-quickchart');\n",
       "  quickchartButtonEl.style.display =\n",
       "    google.colab.kernel.accessAllowed ? 'block' : 'none';\n",
       "}\n",
       "\n",
       "        displayQuickchartButton(document);\n",
       "      </script>\n",
       "      <style>\n",
       "    .colab-df-container {\n",
       "      display:flex;\n",
       "      flex-wrap:wrap;\n",
       "      gap: 12px;\n",
       "    }\n",
       "\n",
       "    .colab-df-convert {\n",
       "      background-color: #E8F0FE;\n",
       "      border: none;\n",
       "      border-radius: 50%;\n",
       "      cursor: pointer;\n",
       "      display: none;\n",
       "      fill: #1967D2;\n",
       "      height: 32px;\n",
       "      padding: 0 0 0 0;\n",
       "      width: 32px;\n",
       "    }\n",
       "\n",
       "    .colab-df-convert:hover {\n",
       "      background-color: #E2EBFA;\n",
       "      box-shadow: 0px 1px 2px rgba(60, 64, 67, 0.3), 0px 1px 3px 1px rgba(60, 64, 67, 0.15);\n",
       "      fill: #174EA6;\n",
       "    }\n",
       "\n",
       "    [theme=dark] .colab-df-convert {\n",
       "      background-color: #3B4455;\n",
       "      fill: #D2E3FC;\n",
       "    }\n",
       "\n",
       "    [theme=dark] .colab-df-convert:hover {\n",
       "      background-color: #434B5C;\n",
       "      box-shadow: 0px 1px 3px 1px rgba(0, 0, 0, 0.15);\n",
       "      filter: drop-shadow(0px 1px 2px rgba(0, 0, 0, 0.3));\n",
       "      fill: #FFFFFF;\n",
       "    }\n",
       "  </style>\n",
       "\n",
       "      <script>\n",
       "        const buttonEl =\n",
       "          document.querySelector('#df-309922cd-efd4-4ac4-b0e6-aa9d708c0bce button.colab-df-convert');\n",
       "        buttonEl.style.display =\n",
       "          google.colab.kernel.accessAllowed ? 'block' : 'none';\n",
       "\n",
       "        async function convertToInteractive(key) {\n",
       "          const element = document.querySelector('#df-309922cd-efd4-4ac4-b0e6-aa9d708c0bce');\n",
       "          const dataTable =\n",
       "            await google.colab.kernel.invokeFunction('convertToInteractive',\n",
       "                                                     [key], {});\n",
       "          if (!dataTable) return;\n",
       "\n",
       "          const docLinkHtml = 'Like what you see? Visit the ' +\n",
       "            '<a target=\"_blank\" href=https://colab.research.google.com/notebooks/data_table.ipynb>data table notebook</a>'\n",
       "            + ' to learn more about interactive tables.';\n",
       "          element.innerHTML = '';\n",
       "          dataTable['output_type'] = 'display_data';\n",
       "          await google.colab.output.renderOutput(dataTable, element);\n",
       "          const docLink = document.createElement('div');\n",
       "          docLink.innerHTML = docLinkHtml;\n",
       "          element.appendChild(docLink);\n",
       "        }\n",
       "      </script>\n",
       "    </div>\n",
       "  </div>\n"
      ],
      "text/plain": [
       "                                  reviewId         userName  \\\n",
       "2191  c065e2cc-737d-4c1e-bdf5-73e18b67d6c9  Tech Enthusiast   \n",
       "2331  32818a8a-e7e2-4fc3-8e81-0860ebfd8242            Akhil   \n",
       "2619  71e6d118-731f-4c77-9cef-1a37b398d41a     Vikram Joshi   \n",
       "2620  e225cd71-c4da-415e-b09e-f390d6738d4c     Brensten Vaz   \n",
       "3139  2d63d3d1-1ac4-4dd1-8e6d-a2186ad2846b      Karthik r s   \n",
       "\n",
       "                                                content  score  thumbsUpCount  \\\n",
       "2191  Worst interface and lack of user-friendly navi...      2              0   \n",
       "2331  Great app! I mainly use it to book train ticke...      2              1   \n",
       "2619  I cannot pay for anything. If I scan the QR co...      2              1   \n",
       "2620  Revising my previous review. Transactions have...      5              0   \n",
       "3139  Recently I have made a transaction from this a...      1              0   \n",
       "\n",
       "                                           replyContent appVersion        date  \n",
       "2191                                                NaN        NaN  2023-03-16  \n",
       "2331  Hi Akhil, Thanks For Your Feedback! We’d like ...        NaN  2023-06-14  \n",
       "2619  Hi! We’d like to take a closer look and help y...        NaN  2022-02-17  \n",
       "2620  Hi, we regret the inconvenience caused to you....        NaN  2023-02-09  \n",
       "3139  Hi, we regret the inconvenience caused to you....        NaN  2023-07-13  "
      ]
     },
     "execution_count": 260,
     "metadata": {},
     "output_type": "execute_result"
    }
   ],
   "source": [
    "paytm_data[paytm_data['appVersion'].isnull()].head()"
   ]
  },
  {
   "cell_type": "markdown",
   "metadata": {
    "id": "TyNDdtStQ6sR"
   },
   "source": [
    "now to fill appVersion values, we will loop through very row with null value, select date of that row, go through row having that particular date and select version which most occurring to replace with null value."
   ]
  },
  {
   "cell_type": "code",
   "execution_count": 261,
   "metadata": {
    "id": "R89xvhKqQ6sR"
   },
   "outputs": [],
   "source": [
    "null_mask = paytm_data['appVersion'].isnull()"
   ]
  },
  {
   "cell_type": "code",
   "execution_count": 262,
   "metadata": {
    "id": "aGs2fADQQ6sS"
   },
   "outputs": [],
   "source": [
    "for index,row in (paytm_data[null_mask].iterrows()):\n",
    "  count = paytm_data[paytm_data['date']==row['date']]['appVersion'].value_counts()\n",
    "  common = count.index[0]\n",
    "  paytm_data.loc[index, 'appVersion'] = common\n",
    "\n"
   ]
  },
  {
   "cell_type": "code",
   "execution_count": 263,
   "metadata": {
    "colab": {
     "base_uri": "https://localhost:8080/"
    },
    "id": "ecHwokOFQ6sT",
    "outputId": "d86d9e7a-5ed0-4619-ca7a-aa28e8e49c39"
   },
   "outputs": [
    {
     "data": {
      "text/plain": [
       "reviewId            0\n",
       "userName            0\n",
       "content             0\n",
       "score               0\n",
       "thumbsUpCount       0\n",
       "replyContent     9605\n",
       "appVersion          0\n",
       "date                0\n",
       "dtype: int64"
      ]
     },
     "execution_count": 263,
     "metadata": {},
     "output_type": "execute_result"
    }
   ],
   "source": [
    "paytm_data.isnull().sum()"
   ]
  },
  {
   "cell_type": "code",
   "execution_count": 263,
   "metadata": {
    "id": "6E568gvESOGj"
   },
   "outputs": [],
   "source": []
  },
  {
   "cell_type": "markdown",
   "metadata": {
    "id": "sUMKUAMnSQHN"
   },
   "source": [
    "## **Feature Engineering** of Phonepe Data\n",
    "\n"
   ]
  },
  {
   "cell_type": "code",
   "execution_count": 264,
   "metadata": {
    "id": "zE6xn6dtSQHO"
   },
   "outputs": [],
   "source": [
    "phonepe_data['at'] = pd.to_datetime(phonepe_data['at'])"
   ]
  },
  {
   "cell_type": "code",
   "execution_count": 265,
   "metadata": {
    "id": "sR9pN63HSQHP"
   },
   "outputs": [],
   "source": [
    "phonepe_data['date'] = phonepe_data['at'].dt.date"
   ]
  },
  {
   "cell_type": "markdown",
   "metadata": {
    "id": "DTmiGJOOSQHP"
   },
   "source": [
    " finding all the NaN Values in phonepe dataset"
   ]
  },
  {
   "cell_type": "code",
   "execution_count": 266,
   "metadata": {
    "colab": {
     "base_uri": "https://localhost:8080/"
    },
    "id": "tflwFt-1SQHQ",
    "outputId": "552dc167-58ea-4b46-aa7e-3d19a92ce557"
   },
   "outputs": [
    {
     "data": {
      "text/plain": [
       "reviewId                        object\n",
       "userName                        object\n",
       "Unnamed: 2                     float64\n",
       "content                         object\n",
       "score                            int64\n",
       "thumbsUpCount                    int64\n",
       "reviewCreatedVersion            object\n",
       "at                      datetime64[ns]\n",
       "replyContent                    object\n",
       "repliedAt                       object\n",
       "appVersion                      object\n",
       "date                            object\n",
       "dtype: object"
      ]
     },
     "execution_count": 266,
     "metadata": {},
     "output_type": "execute_result"
    }
   ],
   "source": [
    "phonepe_data.dtypes\n"
   ]
  },
  {
   "cell_type": "markdown",
   "metadata": {
    "id": "IkMgPJFuSQHQ"
   },
   "source": [
    "Thing to note here is while 'score' is a numerical value, its still a categorical variable."
   ]
  },
  {
   "cell_type": "code",
   "execution_count": 267,
   "metadata": {
    "colab": {
     "base_uri": "https://localhost:8080/"
    },
    "id": "3koX2_FHSQHR",
    "outputId": "625787c1-6b80-4d68-aa27-beb9e73e8ac7"
   },
   "outputs": [
    {
     "data": {
      "text/plain": [
       "reviewId                    0\n",
       "userName                    0\n",
       "Unnamed: 2              40000\n",
       "content                     0\n",
       "score                       0\n",
       "thumbsUpCount               0\n",
       "reviewCreatedVersion     4179\n",
       "at                          0\n",
       "replyContent            13355\n",
       "repliedAt               13355\n",
       "appVersion               4179\n",
       "date                        0\n",
       "dtype: int64"
      ]
     },
     "execution_count": 267,
     "metadata": {},
     "output_type": "execute_result"
    }
   ],
   "source": [
    "phonepe_data.isnull().sum()"
   ]
  },
  {
   "cell_type": "markdown",
   "metadata": {
    "id": "0SHuh1ZCSQHR"
   },
   "source": [
    "We can see numerical value(thumbsUpCount, score) doesnt have null values, while null value in (replyContent, repliedAt) indicates about 16k reviews dont have a reply. While null values in (reviewCreatedVersion)\n",
    ",appVersion are missing in data."
   ]
  },
  {
   "cell_type": "code",
   "execution_count": 268,
   "metadata": {
    "id": "8bjaSLNjSQHS"
   },
   "outputs": [],
   "source": [
    "phonepe_data.drop('Unnamed: 2', axis = 'columns', inplace = True)  #removing unnamed empty column\n"
   ]
  },
  {
   "cell_type": "code",
   "execution_count": 269,
   "metadata": {
    "id": "Vvy6dfsVSQHS"
   },
   "outputs": [],
   "source": [
    "phonepe_data.drop('at', axis = 'columns', inplace = True)"
   ]
  },
  {
   "cell_type": "markdown",
   "metadata": {
    "id": "QopP0x6VSQHS"
   },
   "source": [
    "Since 'reviewCreatedVersion' and 'appVersion' represents same info. we will drop one of them"
   ]
  },
  {
   "cell_type": "code",
   "execution_count": 270,
   "metadata": {
    "id": "sXe9ixISSQHT"
   },
   "outputs": [],
   "source": [
    "phonepe_data.drop('reviewCreatedVersion', axis = 'columns', inplace = True)"
   ]
  },
  {
   "cell_type": "code",
   "execution_count": 271,
   "metadata": {
    "id": "PZePM62WmUH7"
   },
   "outputs": [],
   "source": [
    "phonepe_data.drop('repliedAt', axis = 'columns', inplace = True)"
   ]
  },
  {
   "cell_type": "code",
   "execution_count": 272,
   "metadata": {
    "colab": {
     "base_uri": "https://localhost:8080/",
     "height": 206
    },
    "id": "pKRrXqBNSQHT",
    "outputId": "828c6f8a-c34d-4ad1-d79d-12c9a2163144"
   },
   "outputs": [
    {
     "data": {
      "text/html": [
       "\n",
       "\n",
       "  <div id=\"df-07dcc844-630d-4a31-882e-fca8dbe70a54\">\n",
       "    <div class=\"colab-df-container\">\n",
       "      <div>\n",
       "<style scoped>\n",
       "    .dataframe tbody tr th:only-of-type {\n",
       "        vertical-align: middle;\n",
       "    }\n",
       "\n",
       "    .dataframe tbody tr th {\n",
       "        vertical-align: top;\n",
       "    }\n",
       "\n",
       "    .dataframe thead th {\n",
       "        text-align: right;\n",
       "    }\n",
       "</style>\n",
       "<table border=\"1\" class=\"dataframe\">\n",
       "  <thead>\n",
       "    <tr style=\"text-align: right;\">\n",
       "      <th></th>\n",
       "      <th>reviewId</th>\n",
       "      <th>userName</th>\n",
       "      <th>content</th>\n",
       "      <th>score</th>\n",
       "      <th>thumbsUpCount</th>\n",
       "      <th>replyContent</th>\n",
       "      <th>appVersion</th>\n",
       "      <th>date</th>\n",
       "    </tr>\n",
       "  </thead>\n",
       "  <tbody>\n",
       "    <tr>\n",
       "      <th>1150</th>\n",
       "      <td>2e30c325-2759-4cb4-9106-598efcc4dc42</td>\n",
       "      <td>RABINDRA KUMAR SINGH</td>\n",
       "      <td>One of the best payment apps in India! The UI ...</td>\n",
       "      <td>5</td>\n",
       "      <td>54</td>\n",
       "      <td>NaN</td>\n",
       "      <td>NaN</td>\n",
       "      <td>2023-05-19</td>\n",
       "    </tr>\n",
       "    <tr>\n",
       "      <th>1730</th>\n",
       "      <td>2b070ff6-9b0f-4608-8544-69fced63509c</td>\n",
       "      <td>Varsha Jat</td>\n",
       "      <td>It's very bad experience I have been using thi...</td>\n",
       "      <td>1</td>\n",
       "      <td>0</td>\n",
       "      <td>Hi, Varsha. Please note, we are not authorized...</td>\n",
       "      <td>NaN</td>\n",
       "      <td>2023-07-08</td>\n",
       "    </tr>\n",
       "    <tr>\n",
       "      <th>1731</th>\n",
       "      <td>7f2d591f-7e4e-49f4-977c-3fc0065ed30b</td>\n",
       "      <td>Utkarsh Singh</td>\n",
       "      <td>I'm unable to activate my account since a year...</td>\n",
       "      <td>1</td>\n",
       "      <td>0</td>\n",
       "      <td>Hi, Utkarsh. Please share relevant ticket IDs ...</td>\n",
       "      <td>NaN</td>\n",
       "      <td>2023-07-07</td>\n",
       "    </tr>\n",
       "    <tr>\n",
       "      <th>2142</th>\n",
       "      <td>23752c0d-80ba-45e4-8673-30edca6e1556</td>\n",
       "      <td>aadi singh</td>\n",
       "      <td>For the first time, I faced a very bad issue r...</td>\n",
       "      <td>1</td>\n",
       "      <td>0</td>\n",
       "      <td>Hi, Aadi. Contact us through our in-app suppor...</td>\n",
       "      <td>NaN</td>\n",
       "      <td>2023-05-29</td>\n",
       "    </tr>\n",
       "    <tr>\n",
       "      <th>2225</th>\n",
       "      <td>9a46c338-84a2-4180-9c1c-dc354b63e366</td>\n",
       "      <td>Ajay Lad</td>\n",
       "      <td>Recently started using PhonePe seeing so many ...</td>\n",
       "      <td>3</td>\n",
       "      <td>0</td>\n",
       "      <td>NaN</td>\n",
       "      <td>NaN</td>\n",
       "      <td>2023-06-01</td>\n",
       "    </tr>\n",
       "  </tbody>\n",
       "</table>\n",
       "</div>\n",
       "      <button class=\"colab-df-convert\" onclick=\"convertToInteractive('df-07dcc844-630d-4a31-882e-fca8dbe70a54')\"\n",
       "              title=\"Convert this dataframe to an interactive table.\"\n",
       "              style=\"display:none;\">\n",
       "\n",
       "  <svg xmlns=\"http://www.w3.org/2000/svg\" height=\"24px\"viewBox=\"0 0 24 24\"\n",
       "       width=\"24px\">\n",
       "    <path d=\"M0 0h24v24H0V0z\" fill=\"none\"/>\n",
       "    <path d=\"M18.56 5.44l.94 2.06.94-2.06 2.06-.94-2.06-.94-.94-2.06-.94 2.06-2.06.94zm-11 1L8.5 8.5l.94-2.06 2.06-.94-2.06-.94L8.5 2.5l-.94 2.06-2.06.94zm10 10l.94 2.06.94-2.06 2.06-.94-2.06-.94-.94-2.06-.94 2.06-2.06.94z\"/><path d=\"M17.41 7.96l-1.37-1.37c-.4-.4-.92-.59-1.43-.59-.52 0-1.04.2-1.43.59L10.3 9.45l-7.72 7.72c-.78.78-.78 2.05 0 2.83L4 21.41c.39.39.9.59 1.41.59.51 0 1.02-.2 1.41-.59l7.78-7.78 2.81-2.81c.8-.78.8-2.07 0-2.86zM5.41 20L4 18.59l7.72-7.72 1.47 1.35L5.41 20z\"/>\n",
       "  </svg>\n",
       "      </button>\n",
       "\n",
       "\n",
       "\n",
       "    <div id=\"df-1eab7b13-75a9-4033-be93-ad36aedeb2af\">\n",
       "      <button class=\"colab-df-quickchart\" onclick=\"quickchart('df-1eab7b13-75a9-4033-be93-ad36aedeb2af')\"\n",
       "              title=\"Suggest charts.\"\n",
       "              style=\"display:none;\">\n",
       "\n",
       "<svg xmlns=\"http://www.w3.org/2000/svg\" height=\"24px\"viewBox=\"0 0 24 24\"\n",
       "     width=\"24px\">\n",
       "    <g>\n",
       "        <path d=\"M19 3H5c-1.1 0-2 .9-2 2v14c0 1.1.9 2 2 2h14c1.1 0 2-.9 2-2V5c0-1.1-.9-2-2-2zM9 17H7v-7h2v7zm4 0h-2V7h2v10zm4 0h-2v-4h2v4z\"/>\n",
       "    </g>\n",
       "</svg>\n",
       "      </button>\n",
       "    </div>\n",
       "\n",
       "<style>\n",
       "  .colab-df-quickchart {\n",
       "    background-color: #E8F0FE;\n",
       "    border: none;\n",
       "    border-radius: 50%;\n",
       "    cursor: pointer;\n",
       "    display: none;\n",
       "    fill: #1967D2;\n",
       "    height: 32px;\n",
       "    padding: 0 0 0 0;\n",
       "    width: 32px;\n",
       "  }\n",
       "\n",
       "  .colab-df-quickchart:hover {\n",
       "    background-color: #E2EBFA;\n",
       "    box-shadow: 0px 1px 2px rgba(60, 64, 67, 0.3), 0px 1px 3px 1px rgba(60, 64, 67, 0.15);\n",
       "    fill: #174EA6;\n",
       "  }\n",
       "\n",
       "  [theme=dark] .colab-df-quickchart {\n",
       "    background-color: #3B4455;\n",
       "    fill: #D2E3FC;\n",
       "  }\n",
       "\n",
       "  [theme=dark] .colab-df-quickchart:hover {\n",
       "    background-color: #434B5C;\n",
       "    box-shadow: 0px 1px 3px 1px rgba(0, 0, 0, 0.15);\n",
       "    filter: drop-shadow(0px 1px 2px rgba(0, 0, 0, 0.3));\n",
       "    fill: #FFFFFF;\n",
       "  }\n",
       "</style>\n",
       "\n",
       "    <script>\n",
       "      async function quickchart(key) {\n",
       "        const containerElement = document.querySelector('#' + key);\n",
       "        const charts = await google.colab.kernel.invokeFunction(\n",
       "            'suggestCharts', [key], {});\n",
       "      }\n",
       "    </script>\n",
       "\n",
       "      <script>\n",
       "\n",
       "function displayQuickchartButton(domScope) {\n",
       "  let quickchartButtonEl =\n",
       "    domScope.querySelector('#df-1eab7b13-75a9-4033-be93-ad36aedeb2af button.colab-df-quickchart');\n",
       "  quickchartButtonEl.style.display =\n",
       "    google.colab.kernel.accessAllowed ? 'block' : 'none';\n",
       "}\n",
       "\n",
       "        displayQuickchartButton(document);\n",
       "      </script>\n",
       "      <style>\n",
       "    .colab-df-container {\n",
       "      display:flex;\n",
       "      flex-wrap:wrap;\n",
       "      gap: 12px;\n",
       "    }\n",
       "\n",
       "    .colab-df-convert {\n",
       "      background-color: #E8F0FE;\n",
       "      border: none;\n",
       "      border-radius: 50%;\n",
       "      cursor: pointer;\n",
       "      display: none;\n",
       "      fill: #1967D2;\n",
       "      height: 32px;\n",
       "      padding: 0 0 0 0;\n",
       "      width: 32px;\n",
       "    }\n",
       "\n",
       "    .colab-df-convert:hover {\n",
       "      background-color: #E2EBFA;\n",
       "      box-shadow: 0px 1px 2px rgba(60, 64, 67, 0.3), 0px 1px 3px 1px rgba(60, 64, 67, 0.15);\n",
       "      fill: #174EA6;\n",
       "    }\n",
       "\n",
       "    [theme=dark] .colab-df-convert {\n",
       "      background-color: #3B4455;\n",
       "      fill: #D2E3FC;\n",
       "    }\n",
       "\n",
       "    [theme=dark] .colab-df-convert:hover {\n",
       "      background-color: #434B5C;\n",
       "      box-shadow: 0px 1px 3px 1px rgba(0, 0, 0, 0.15);\n",
       "      filter: drop-shadow(0px 1px 2px rgba(0, 0, 0, 0.3));\n",
       "      fill: #FFFFFF;\n",
       "    }\n",
       "  </style>\n",
       "\n",
       "      <script>\n",
       "        const buttonEl =\n",
       "          document.querySelector('#df-07dcc844-630d-4a31-882e-fca8dbe70a54 button.colab-df-convert');\n",
       "        buttonEl.style.display =\n",
       "          google.colab.kernel.accessAllowed ? 'block' : 'none';\n",
       "\n",
       "        async function convertToInteractive(key) {\n",
       "          const element = document.querySelector('#df-07dcc844-630d-4a31-882e-fca8dbe70a54');\n",
       "          const dataTable =\n",
       "            await google.colab.kernel.invokeFunction('convertToInteractive',\n",
       "                                                     [key], {});\n",
       "          if (!dataTable) return;\n",
       "\n",
       "          const docLinkHtml = 'Like what you see? Visit the ' +\n",
       "            '<a target=\"_blank\" href=https://colab.research.google.com/notebooks/data_table.ipynb>data table notebook</a>'\n",
       "            + ' to learn more about interactive tables.';\n",
       "          element.innerHTML = '';\n",
       "          dataTable['output_type'] = 'display_data';\n",
       "          await google.colab.output.renderOutput(dataTable, element);\n",
       "          const docLink = document.createElement('div');\n",
       "          docLink.innerHTML = docLinkHtml;\n",
       "          element.appendChild(docLink);\n",
       "        }\n",
       "      </script>\n",
       "    </div>\n",
       "  </div>\n"
      ],
      "text/plain": [
       "                                  reviewId              userName  \\\n",
       "1150  2e30c325-2759-4cb4-9106-598efcc4dc42  RABINDRA KUMAR SINGH   \n",
       "1730  2b070ff6-9b0f-4608-8544-69fced63509c            Varsha Jat   \n",
       "1731  7f2d591f-7e4e-49f4-977c-3fc0065ed30b         Utkarsh Singh   \n",
       "2142  23752c0d-80ba-45e4-8673-30edca6e1556            aadi singh   \n",
       "2225  9a46c338-84a2-4180-9c1c-dc354b63e366              Ajay Lad   \n",
       "\n",
       "                                                content  score  thumbsUpCount  \\\n",
       "1150  One of the best payment apps in India! The UI ...      5             54   \n",
       "1730  It's very bad experience I have been using thi...      1              0   \n",
       "1731  I'm unable to activate my account since a year...      1              0   \n",
       "2142  For the first time, I faced a very bad issue r...      1              0   \n",
       "2225  Recently started using PhonePe seeing so many ...      3              0   \n",
       "\n",
       "                                           replyContent appVersion        date  \n",
       "1150                                                NaN        NaN  2023-05-19  \n",
       "1730  Hi, Varsha. Please note, we are not authorized...        NaN  2023-07-08  \n",
       "1731  Hi, Utkarsh. Please share relevant ticket IDs ...        NaN  2023-07-07  \n",
       "2142  Hi, Aadi. Contact us through our in-app suppor...        NaN  2023-05-29  \n",
       "2225                                                NaN        NaN  2023-06-01  "
      ]
     },
     "execution_count": 272,
     "metadata": {},
     "output_type": "execute_result"
    }
   ],
   "source": [
    "phonepe_data[phonepe_data['appVersion'].isnull()].head()"
   ]
  },
  {
   "cell_type": "markdown",
   "metadata": {
    "id": "IG_Ns0tBSQHU"
   },
   "source": [
    "now to fill appVersion values, we will loop through very row with null value, select date of that row, go through row having that particular date and select version which most occurring to replace with null value."
   ]
  },
  {
   "cell_type": "code",
   "execution_count": 273,
   "metadata": {
    "id": "VczwQtY0SQHU"
   },
   "outputs": [],
   "source": [
    "null_mask = phonepe_data['appVersion'].isnull()"
   ]
  },
  {
   "cell_type": "code",
   "execution_count": 274,
   "metadata": {
    "id": "lpqmj8IvSQHV"
   },
   "outputs": [],
   "source": [
    "for index,row in (phonepe_data[null_mask].iterrows()):\n",
    "  count = phonepe_data[phonepe_data['date']==row['date']]['appVersion'].value_counts()\n",
    "  common = count.index[0]\n",
    "  phonepe_data.loc[index, 'appVersion'] = common\n",
    "\n"
   ]
  },
  {
   "cell_type": "code",
   "execution_count": 275,
   "metadata": {
    "colab": {
     "base_uri": "https://localhost:8080/"
    },
    "id": "sszNo8PmSQHV",
    "outputId": "3944d106-35ed-41c1-b02e-3ec167490735"
   },
   "outputs": [
    {
     "data": {
      "text/plain": [
       "reviewId             0\n",
       "userName             0\n",
       "content              0\n",
       "score                0\n",
       "thumbsUpCount        0\n",
       "replyContent     13355\n",
       "appVersion           0\n",
       "date                 0\n",
       "dtype: int64"
      ]
     },
     "execution_count": 275,
     "metadata": {},
     "output_type": "execute_result"
    }
   ],
   "source": [
    "phonepe_data.isnull().sum()"
   ]
  },
  {
   "cell_type": "markdown",
   "metadata": {
    "id": "SWa2sUCZl1JO"
   },
   "source": [
    "# Creating another table from outliers (GPay)"
   ]
  },
  {
   "cell_type": "code",
   "execution_count": 276,
   "metadata": {
    "colab": {
     "base_uri": "https://localhost:8080/",
     "height": 427
    },
    "id": "fIfhonADl84v",
    "outputId": "3882cbdc-a367-4b87-9708-16d7d6f31b92"
   },
   "outputs": [
    {
     "data": {
      "text/plain": [
       "<matplotlib.collections.PathCollection at 0x7d6705eaf160>"
      ]
     },
     "execution_count": 276,
     "metadata": {},
     "output_type": "execute_result"
    },
    {
     "data": {
      "image/png": "[encoded data removed]",
      "text/plain": [
       "<Figure size 1000x400 with 1 Axes>"
      ]
     },
     "metadata": {},
     "output_type": "display_data"
    }
   ],
   "source": [
    "likes_count = google_data['thumbsUpCount'].value_counts().sort_index()\n",
    "plt.figure(figsize=(10,4))\n",
    "\n",
    "plt.title(\"Number of Likes vs Frequency\")\n",
    "plt.xlabel(\"Number of Likes\")\n",
    "plt.ylabel(\"Frequency\")\n",
    "\n",
    "plt.scatter(likes_count.index, likes_count.values)\n"
   ]
  },
  {
   "cell_type": "markdown",
   "metadata": {
    "id": "ySMhlmfksW3-"
   },
   "source": [
    "as you can see about half data sits at 0 likes (about 17500). to separate the outliers lets zoom in."
   ]
  },
  {
   "cell_type": "code",
   "execution_count": 277,
   "metadata": {
    "colab": {
     "base_uri": "https://localhost:8080/",
     "height": 427
    },
    "id": "myicFqmwsgn5",
    "outputId": "ba66c557-63bd-4768-ea7d-092ce879b82e"
   },
   "outputs": [
    {
     "data": {
      "text/plain": [
       "<matplotlib.collections.PathCollection at 0x7d67019fba30>"
      ]
     },
     "execution_count": 277,
     "metadata": {},
     "output_type": "execute_result"
    },
    {
     "data": {
      "image/png": "[encoded data removed]",
      "text/plain": [
       "<Figure size 1000x400 with 1 Axes>"
      ]
     },
     "metadata": {},
     "output_type": "display_data"
    }
   ],
   "source": [
    "plt.figure(figsize=(10,4))\n",
    "plt.xlim(-10,1500)\n",
    "plt.ylim(0,5)\n",
    "plt.title(\"Number of Likes vs Frequency\")\n",
    "plt.xlabel(\"Number of Likes\")\n",
    "plt.ylabel(\"Frequency\")\n",
    "\n",
    "plt.scatter(likes_count.index, likes_count.values)"
   ]
  },
  {
   "cell_type": "markdown",
   "metadata": {
    "id": "lMsNvojitl0p"
   },
   "source": [
    "as we can see there are very less and only 1-1 reviews having thumbsup more that 1100. so we will separate reviews having thumbsupcount > 1100 to another tables"
   ]
  },
  {
   "cell_type": "markdown",
   "metadata": {
    "id": "_bdzOiZ14VUy"
   },
   "source": [
    "I moved the outliers and updated original data"
   ]
  },
  {
   "cell_type": "code",
   "execution_count": 278,
   "metadata": {
    "id": "wH0SEfF34gmS"
   },
   "outputs": [],
   "source": [
    "google_mosthelpful = google_data[google_data['thumbsUpCount'] >= 1100]"
   ]
  },
  {
   "cell_type": "code",
   "execution_count": 279,
   "metadata": {
    "colab": {
     "base_uri": "https://localhost:8080/"
    },
    "id": "K7bUa3Cj56nH",
    "outputId": "6e724a16-a209-413c-9e76-2e7e4debaf39"
   },
   "outputs": [
    {
     "name": "stdout",
     "output_type": "stream",
     "text": [
      "(107, 8)\n"
     ]
    }
   ],
   "source": [
    "print(google_mosthelpful.shape)"
   ]
  },
  {
   "cell_type": "code",
   "execution_count": 280,
   "metadata": {
    "id": "SIH5jS8642zC"
   },
   "outputs": [],
   "source": [
    "google_data = google_data[google_data['thumbsUpCount'] < 1100]"
   ]
  },
  {
   "cell_type": "markdown",
   "metadata": {
    "id": "P9zy1rnC5IGG"
   },
   "source": [
    "# Creating another table from outliers (Paytm)"
   ]
  },
  {
   "cell_type": "code",
   "execution_count": 281,
   "metadata": {
    "colab": {
     "base_uri": "https://localhost:8080/",
     "height": 427
    },
    "id": "6h-SV_UX5IGY",
    "outputId": "0315e08e-c99f-4269-c71c-91befb399453"
   },
   "outputs": [
    {
     "data": {
      "text/plain": [
       "<matplotlib.collections.PathCollection at 0x7d67054b4670>"
      ]
     },
     "execution_count": 281,
     "metadata": {},
     "output_type": "execute_result"
    },
    {
     "data": {
      "image/png": "[encoded data removed]",
      "text/plain": [
       "<Figure size 1000x400 with 1 Axes>"
      ]
     },
     "metadata": {},
     "output_type": "display_data"
    }
   ],
   "source": [
    "likes_count = paytm_data['thumbsUpCount'].value_counts().sort_index()\n",
    "plt.figure(figsize=(10,4))\n",
    "\n",
    "plt.title(\"Number of Likes vs Frequency\")\n",
    "plt.xlabel(\"Number of Likes\")\n",
    "plt.ylabel(\"Frequency\")\n",
    "\n",
    "plt.scatter(likes_count.index, likes_count.values)\n"
   ]
  },
  {
   "cell_type": "markdown",
   "metadata": {
    "id": "mxR7l-Q85IGZ"
   },
   "source": [
    "as you can see about half data sits at 0 likes (over 27500). to separate the outliers lets zoom in."
   ]
  },
  {
   "cell_type": "code",
   "execution_count": 282,
   "metadata": {
    "colab": {
     "base_uri": "https://localhost:8080/",
     "height": 427
    },
    "id": "jSzbZevY5IGa",
    "outputId": "f95283bf-7862-4c39-adfd-dceedd9acbec"
   },
   "outputs": [
    {
     "data": {
      "text/plain": [
       "<matplotlib.collections.PathCollection at 0x7d670a2b4e20>"
      ]
     },
     "execution_count": 282,
     "metadata": {},
     "output_type": "execute_result"
    },
    {
     "data": {
      "image/png": "[encoded data removed]",
      "text/plain": [
       "<Figure size 1000x400 with 1 Axes>"
      ]
     },
     "metadata": {},
     "output_type": "display_data"
    }
   ],
   "source": [
    "plt.figure(figsize=(10,4))\n",
    "plt.xlim(-10,1500)\n",
    "plt.ylim(0,5)\n",
    "plt.title(\"Number of Likes vs Frequency\")\n",
    "plt.xlabel(\"Number of Likes\")\n",
    "plt.ylabel(\"Frequency\")\n",
    "\n",
    "plt.scatter(likes_count.index, likes_count.values)"
   ]
  },
  {
   "cell_type": "markdown",
   "metadata": {
    "id": "FF_rJN375IGa"
   },
   "source": [
    "as we can see there are very less and only 1-1 reviews having thumbsup more that 800. so we will separate reviews having thumbsupcount > 800 to another tables"
   ]
  },
  {
   "cell_type": "markdown",
   "metadata": {
    "id": "nM5fg7-l5IGb"
   },
   "source": [
    "I moved the outliers and updated original data"
   ]
  },
  {
   "cell_type": "code",
   "execution_count": 283,
   "metadata": {
    "id": "1k5ECkkL5IGb"
   },
   "outputs": [],
   "source": [
    "paytm_mosthelpful = paytm_data[paytm_data['thumbsUpCount'] >= 800]"
   ]
  },
  {
   "cell_type": "code",
   "execution_count": 284,
   "metadata": {
    "colab": {
     "base_uri": "https://localhost:8080/"
    },
    "id": "xfF1T-1V5yWW",
    "outputId": "72e3df22-7164-415d-ed06-b97e2c763ee6"
   },
   "outputs": [
    {
     "name": "stdout",
     "output_type": "stream",
     "text": [
      "(132, 8)\n"
     ]
    }
   ],
   "source": [
    "print(paytm_mosthelpful.shape)"
   ]
  },
  {
   "cell_type": "code",
   "execution_count": 285,
   "metadata": {
    "id": "zvxNvfOU5IGc"
   },
   "outputs": [],
   "source": [
    "paytm_data = paytm_data[paytm_data['thumbsUpCount'] < 800]"
   ]
  },
  {
   "cell_type": "markdown",
   "metadata": {
    "id": "_BjAS1RRd2cd"
   },
   "source": [
    "# Creating another table from outliers (PhonePe)"
   ]
  },
  {
   "cell_type": "code",
   "execution_count": 286,
   "metadata": {
    "colab": {
     "base_uri": "https://localhost:8080/",
     "height": 427
    },
    "id": "Jj3HEYmwd2cv",
    "outputId": "0073336e-44be-46d9-a977-6bb22d9ac503"
   },
   "outputs": [
    {
     "data": {
      "text/plain": [
       "<matplotlib.collections.PathCollection at 0x7d67048ecdf0>"
      ]
     },
     "execution_count": 286,
     "metadata": {},
     "output_type": "execute_result"
    },
    {
     "data": {
      "image/png": "[encoded data removed]",
      "text/plain": [
       "<Figure size 1000x400 with 1 Axes>"
      ]
     },
     "metadata": {},
     "output_type": "display_data"
    }
   ],
   "source": [
    "likes_count = phonepe_data['thumbsUpCount'].value_counts().sort_index()\n",
    "plt.figure(figsize=(10,4))\n",
    "\n",
    "plt.title(\"Number of Likes vs Frequency\")\n",
    "plt.xlabel(\"Number of Likes\")\n",
    "plt.ylabel(\"Frequency\")\n",
    "\n",
    "plt.scatter(likes_count.index, likes_count.values)\n"
   ]
  },
  {
   "cell_type": "markdown",
   "metadata": {
    "id": "uTLHd_uSd2cw"
   },
   "source": [
    "as you can see about half data sits at 0 likes (over 27500). to separate the outliers lets zoom in."
   ]
  },
  {
   "cell_type": "code",
   "execution_count": 287,
   "metadata": {
    "colab": {
     "base_uri": "https://localhost:8080/",
     "height": 427
    },
    "id": "BzPBC0qgd2cw",
    "outputId": "0cd150da-581a-40b2-9bac-b28b9a9ceb2a"
   },
   "outputs": [
    {
     "data": {
      "text/plain": [
       "<matplotlib.collections.PathCollection at 0x7d6704da8550>"
      ]
     },
     "execution_count": 287,
     "metadata": {},
     "output_type": "execute_result"
    },
    {
     "data": {
      "image/png": "[encoded data removed]",
      "text/plain": [
       "<Figure size 1000x400 with 1 Axes>"
      ]
     },
     "metadata": {},
     "output_type": "display_data"
    }
   ],
   "source": [
    "plt.figure(figsize=(10,4))\n",
    "plt.xlim(-10,1500)\n",
    "plt.ylim(0,5)\n",
    "plt.title(\"Number of Likes vs Frequency\")\n",
    "plt.xlabel(\"Number of Likes\")\n",
    "plt.ylabel(\"Frequency\")\n",
    "\n",
    "plt.scatter(likes_count.index, likes_count.values)"
   ]
  },
  {
   "cell_type": "markdown",
   "metadata": {
    "id": "dEoDnCORd2cw"
   },
   "source": [
    "as we can see there are very less and only 1-1 reviews having thumbsup more that 800. so we will separate reviews having thumbsupcount > 800 to another tables"
   ]
  },
  {
   "cell_type": "markdown",
   "metadata": {
    "id": "Qztlu_G1d2cx"
   },
   "source": [
    "I moved the outliers and updated original data"
   ]
  },
  {
   "cell_type": "code",
   "execution_count": 288,
   "metadata": {
    "id": "u3krsCb6d2cx"
   },
   "outputs": [],
   "source": [
    "phonepe_mosthelpful = phonepe_data[phonepe_data['thumbsUpCount'] >= 800]"
   ]
  },
  {
   "cell_type": "code",
   "execution_count": 289,
   "metadata": {
    "colab": {
     "base_uri": "https://localhost:8080/"
    },
    "id": "HHnOivhMd2cy",
    "outputId": "1410cab3-bb36-4a1a-d47b-ca611818494a"
   },
   "outputs": [
    {
     "name": "stdout",
     "output_type": "stream",
     "text": [
      "(119, 8)\n"
     ]
    }
   ],
   "source": [
    "print(phonepe_mosthelpful.shape)"
   ]
  },
  {
   "cell_type": "code",
   "execution_count": 290,
   "metadata": {
    "id": "TElkrEKHd2cy"
   },
   "outputs": [],
   "source": [
    "phonepe_data = phonepe_data[phonepe_data['thumbsUpCount'] < 800]"
   ]
  },
  {
   "cell_type": "markdown",
   "metadata": {
    "id": "y8atUBs4oEGw"
   },
   "source": [
    "# EDA on individual Company"
   ]
  },
  {
   "cell_type": "markdown",
   "metadata": {
    "id": "SxWBXyAle737"
   },
   "source": [
    "## Most Positive Word and Negative Word in helpful reviews for GPay\n"
   ]
  },
  {
   "cell_type": "code",
   "execution_count": 291,
   "metadata": {
    "id": "ey1frXMMfNie"
   },
   "outputs": [],
   "source": [
    "from collections import Counter #to count the words\n",
    "import re"
   ]
  },
  {
   "cell_type": "code",
   "execution_count": 292,
   "metadata": {
    "id": "U7nr_gIAfXpK"
   },
   "outputs": [],
   "source": [
    "stopwords = ['i', 'me', 'even',\"don't\",\"it's\",'','my', 'myself', 'we','app', 'our', 'ours', 'ourselves', 'you', 'your', 'yours', 'yourself','got','get', 'yourselves', 'he', 'him', 'his', 'himself', 'she', 'her', 'hers', 'herself', 'it', 'its', 'itself', 'they', 'them', 'their', 'theirs', 'themselves', 'what', 'which', 'who', 'whom', 'this', 'that', 'these', 'those', 'am', 'is', 'are', 'was', 'were', 'be', 'been', 'being', 'have', 'has', 'had', 'having', 'do', 'does', 'did', 'doing', 'a', 'an', 'the', 'and', 'but', 'if', 'or', 'because', 'as', 'until', 'while', 'of', 'at', 'by', 'for', 'with', 'about', 'against', 'between', 'into', 'through', 'during', 'before', 'after', 'above', 'below', 'to', 'from', 'up', 'down', 'in', 'out', 'on', 'off', 'over', 'under', 'again', 'further', 'then', 'once', 'here', 'there', 'when', 'where', 'why', 'how', 'all', 'any', 'both', 'each', 'few', 'more', 'most', 'other', 'some', 'such', 'no', 'nor', 'not', 'only', 'own', 'same', 'so', 'than', 'too', 'very', 's', 't', 'can', 'will', 'just', 'don', 'should', 'now']"
   ]
  },
  {
   "cell_type": "markdown",
   "metadata": {
    "id": "1JmetByRj9GU"
   },
   "source": [
    "We will split string by space,dot,comma by import re, clean words of each review of special characters and then count it with 'Counter'. Lets first do this on score=5 reviews to get most positive words"
   ]
  },
  {
   "cell_type": "code",
   "execution_count": 293,
   "metadata": {
    "id": "W0R9Ykp-fkur"
   },
   "outputs": [],
   "source": [
    "words = []\n",
    "special_characters=['@','#','$','*','&',',','.','(',')','!']\n",
    "google_mosthelpful5 = google_mosthelpful[(google_mosthelpful['score']==5) | (google_mosthelpful['score']==4)]\n",
    "for review in google_mosthelpful5['content']:\n",
    "    for word in re.split(r'[ .,]+', review):\n",
    "        for i in special_characters:\n",
    "          word=word.replace(i,\"\")\n",
    "          if word.lower() not in stopwords:\n",
    "            word = word.lower()\n",
    "            words.append(word)\n"
   ]
  },
  {
   "cell_type": "code",
   "execution_count": 294,
   "metadata": {
    "id": "v6PRn5A_jcRA"
   },
   "outputs": [],
   "source": [
    "word_counts = Counter(words)"
   ]
  },
  {
   "cell_type": "code",
   "execution_count": 295,
   "metadata": {
    "id": "1ukPdekHkVtW"
   },
   "outputs": [],
   "source": [
    "frequent_words = [word for word, count in word_counts.most_common()]\n",
    "word_freq = [count for word, count in word_counts.most_common()]"
   ]
  },
  {
   "cell_type": "code",
   "execution_count": 296,
   "metadata": {
    "colab": {
     "base_uri": "https://localhost:8080/",
     "height": 487
    },
    "id": "-RLeGdSHl2fj",
    "outputId": "51901394-eec8-4b9a-8203-f27e729787eb"
   },
   "outputs": [
    {
     "data": {
      "image/png": "[encoded data removed]",
      "text/plain": [
       "<Figure size 1400x500 with 1 Axes>"
      ]
     },
     "metadata": {},
     "output_type": "display_data"
    }
   ],
   "source": [
    "plt.figure(figsize=(14,5))\n",
    "plt.bar(frequent_words,word_freq,color='green')\n",
    "plt.title('Most Positive words for google')\n",
    "plt.xlabel('Positive word')\n",
    "plt.ylabel('Frequency')\n",
    "plt.xlim(-0.5, 15)\n",
    "plt.show()"
   ]
  },
  {
   "cell_type": "code",
   "execution_count": 297,
   "metadata": {
    "id": "5zYzkXM8m-jP"
   },
   "outputs": [],
   "source": [
    "words = []\n",
    "special_characters=['@','#','$','*','&',',','.','(',')','!']\n",
    "google_mosthelpful1 = google_mosthelpful[(google_mosthelpful['score']==1) | (google_mosthelpful['score']==2)]\n",
    "for review in google_mosthelpful1['content']:\n",
    "    for word in re.split(r'[ .,]+', review):\n",
    "        for i in special_characters:\n",
    "          word=word.replace(i,\"\")\n",
    "          if word.lower() not in stopwords:\n",
    "            word = word.lower()\n",
    "            words.append(word)\n"
   ]
  },
  {
   "cell_type": "code",
   "execution_count": 298,
   "metadata": {
    "id": "EvCweQF3nG9D"
   },
   "outputs": [],
   "source": [
    "word_counts = Counter(words)"
   ]
  },
  {
   "cell_type": "code",
   "execution_count": 299,
   "metadata": {
    "id": "JMl714b6nG9E"
   },
   "outputs": [],
   "source": [
    "frequent_words = [word for word, count in word_counts.most_common()]\n",
    "word_freq = [count for word, count in word_counts.most_common()]"
   ]
  },
  {
   "cell_type": "code",
   "execution_count": 300,
   "metadata": {
    "colab": {
     "base_uri": "https://localhost:8080/",
     "height": 487
    },
    "id": "eAAhuU-JnG9F",
    "outputId": "658a8def-6fe2-4b01-bd34-98428e34c3c5"
   },
   "outputs": [
    {
     "data": {
      "image/png": "[encoded data removed]",
      "text/plain": [
       "<Figure size 1400x500 with 1 Axes>"
      ]
     },
     "metadata": {},
     "output_type": "display_data"
    }
   ],
   "source": [
    "plt.figure(figsize=(14,5))\n",
    "plt.bar(frequent_words,word_freq,color='red')\n",
    "plt.title('Most Negative words for google')\n",
    "plt.xlabel('negative word')\n",
    "plt.ylabel('Frequency')\n",
    "plt.xlim(-0.5, 15)\n",
    "plt.show()"
   ]
  },
  {
   "cell_type": "markdown",
   "metadata": {
    "id": "y0Z3hrYPodwy"
   },
   "source": [
    "## Most Positive Word and Negative Word in helpful reviews for Paytm"
   ]
  },
  {
   "cell_type": "code",
   "execution_count": 301,
   "metadata": {
    "id": "x42vAMaNodw0"
   },
   "outputs": [],
   "source": [
    "stopwords = ['i', 'me', 'even',\"don't\",\"it's\",'','my', 'myself','app', 'we', 'our', 'ours', 'ourselves', 'you', 'your', 'yours', 'yourself','got','get', 'yourselves', 'he', 'him', 'his', 'himself', 'she', 'her', 'hers', 'herself', 'it', 'its', 'itself', 'they', 'them', 'their', 'theirs', 'themselves', 'what', 'which', 'who', 'whom', 'this', 'that', 'these', 'those', 'am', 'is', 'are', 'was', 'were', 'be', 'been', 'being', 'have', 'has', 'had', 'having', 'do', 'does', 'did', 'doing', 'a', 'an', 'the', 'and', 'but', 'if', 'or', 'because', 'as', 'until', 'while', 'of', 'at', 'by', 'for', 'with', 'about', 'against', 'between', 'into', 'through', 'during', 'before', 'after', 'above', 'below', 'to', 'from', 'up', 'down', 'in', 'out', 'on', 'off', 'over', 'under', 'again', 'further', 'then', 'once', 'here', 'there', 'when', 'where', 'why', 'how', 'all', 'any', 'both', 'each', 'few', 'more', 'most', 'other', 'some', 'such', 'no', 'nor', 'not', 'only', 'own', 'same', 'so', 'than', 'too', 'very', 's', 't', 'can', 'will', 'just', 'don', 'should', 'now']"
   ]
  },
  {
   "cell_type": "markdown",
   "metadata": {
    "id": "O1AoTPojodw0"
   },
   "source": [
    "We will split string by space,dot,comma by import re, clean words of each review of special characters and then count it with 'Counter'. Lets first do this on score=5 reviews to get most positive words"
   ]
  },
  {
   "cell_type": "code",
   "execution_count": 302,
   "metadata": {
    "id": "KTtkLTu2odw1"
   },
   "outputs": [],
   "source": [
    "words = []\n",
    "special_characters=['@','#','$','*','&',',','.','(',')','!']\n",
    "paytm_mosthelpful5 = paytm_mosthelpful[(paytm_mosthelpful['score']==5)|(paytm_mosthelpful['score']==4)]\n",
    "for review in paytm_mosthelpful5['content']:\n",
    "    for word in re.split(r'[ .,]+', review):\n",
    "        for i in special_characters:\n",
    "          word=word.replace(i,\"\")\n",
    "          if word.lower() not in stopwords:\n",
    "            word = word.lower()\n",
    "            words.append(word)\n"
   ]
  },
  {
   "cell_type": "code",
   "execution_count": 303,
   "metadata": {
    "id": "8vIdTD9uodw1"
   },
   "outputs": [],
   "source": [
    "word_counts = Counter(words)"
   ]
  },
  {
   "cell_type": "code",
   "execution_count": 304,
   "metadata": {
    "id": "vVMIlktLodw2"
   },
   "outputs": [],
   "source": [
    "frequent_words = [word for word, count in word_counts.most_common()]\n",
    "word_freq = [count for word, count in word_counts.most_common()]"
   ]
  },
  {
   "cell_type": "code",
   "execution_count": 305,
   "metadata": {
    "colab": {
     "base_uri": "https://localhost:8080/",
     "height": 487
    },
    "id": "JnpQE5aLodw2",
    "outputId": "1633ec42-cee7-4932-a72f-c0763d4b5ad2"
   },
   "outputs": [
    {
     "data": {
      "image/png": "[encoded data removed]",
      "text/plain": [
       "<Figure size 1400x500 with 1 Axes>"
      ]
     },
     "metadata": {},
     "output_type": "display_data"
    }
   ],
   "source": [
    "plt.figure(figsize=(14,5))\n",
    "plt.bar(frequent_words,word_freq,color='green')\n",
    "plt.title('Most Positive words for Paytm')\n",
    "plt.xlabel('Positive word')\n",
    "plt.ylabel('Frequency')\n",
    "plt.xlim(-0.5, 15)\n",
    "plt.show()"
   ]
  },
  {
   "cell_type": "code",
   "execution_count": 306,
   "metadata": {
    "id": "DiEyv8XJodw3"
   },
   "outputs": [],
   "source": [
    "words = []\n",
    "special_characters=['@','#','$','*','&',',','.','(',')','!']\n",
    "paytm_mosthelpful1 = paytm_mosthelpful[(paytm_mosthelpful['score']==1)|(paytm_mosthelpful['score']==2)]\n",
    "for review in paytm_mosthelpful1['content']:\n",
    "    for word in re.split(r'[ .,]+', review):\n",
    "        for i in special_characters:\n",
    "          word=word.replace(i,\"\")\n",
    "          if word.lower() not in stopwords:\n",
    "            word = word.lower()\n",
    "            words.append(word)\n"
   ]
  },
  {
   "cell_type": "code",
   "execution_count": 307,
   "metadata": {
    "id": "0uTNimoWodw3"
   },
   "outputs": [],
   "source": [
    "word_counts = Counter(words)"
   ]
  },
  {
   "cell_type": "code",
   "execution_count": 308,
   "metadata": {
    "id": "Zrbnp76nodw4"
   },
   "outputs": [],
   "source": [
    "frequent_words = [word for word, count in word_counts.most_common()]\n",
    "word_freq = [count for word, count in word_counts.most_common()]"
   ]
  },
  {
   "cell_type": "code",
   "execution_count": 309,
   "metadata": {
    "colab": {
     "base_uri": "https://localhost:8080/",
     "height": 487
    },
    "id": "dbZOzYWwodw4",
    "outputId": "a4c9eb44-ea27-42b0-c643-4df11872cecd"
   },
   "outputs": [
    {
     "data": {
      "image/png": "[encoded data removed]",
      "text/plain": [
       "<Figure size 1400x500 with 1 Axes>"
      ]
     },
     "metadata": {},
     "output_type": "display_data"
    }
   ],
   "source": [
    "plt.figure(figsize=(14,5))\n",
    "plt.bar(frequent_words,word_freq,color='red')\n",
    "plt.title('Most Negative words for Paytm')\n",
    "plt.xlabel('negative word')\n",
    "plt.ylabel('Frequency')\n",
    "plt.xlim(-0.5, 15)\n",
    "plt.show()"
   ]
  },
  {
   "cell_type": "markdown",
   "metadata": {
    "id": "DwzDU55UqsWB"
   },
   "source": [
    "## Most Positive Word and Negative Word in helpful reviews for PhonePe"
   ]
  },
  {
   "cell_type": "markdown",
   "metadata": {
    "id": "pQhXOTKtqsWY"
   },
   "source": [
    "We will split string by space,dot,comma by import re, clean words of each review of special characters and then count it with 'Counter'. Lets first do this on score=5 reviews to get most positive words"
   ]
  },
  {
   "cell_type": "code",
   "execution_count": 310,
   "metadata": {
    "id": "jHFY8Vf2qsWZ"
   },
   "outputs": [],
   "source": [
    "words = []\n",
    "special_characters=['@','#','$','*','&',',','.','(',')','!']\n",
    "phonepe_mosthelpful5 = phonepe_mosthelpful[(phonepe_mosthelpful['score']==5)|(phonepe_mosthelpful['score']==4)]\n",
    "for review in phonepe_mosthelpful5['content']:\n",
    "    for word in re.split(r'[ .,]+', review):\n",
    "        for i in special_characters:\n",
    "          word=word.replace(i,\"\")\n",
    "          if word.lower() not in stopwords:\n",
    "            word = word.lower()\n",
    "            words.append(word)\n"
   ]
  },
  {
   "cell_type": "code",
   "execution_count": 311,
   "metadata": {
    "id": "dyjVNp53qsWa"
   },
   "outputs": [],
   "source": [
    "word_counts = Counter(words)"
   ]
  },
  {
   "cell_type": "code",
   "execution_count": 312,
   "metadata": {
    "id": "dfvFyFaXqsWa"
   },
   "outputs": [],
   "source": [
    "frequent_words = [word for word, count in word_counts.most_common()]\n",
    "word_freq = [count for word, count in word_counts.most_common()]"
   ]
  },
  {
   "cell_type": "code",
   "execution_count": 313,
   "metadata": {
    "colab": {
     "base_uri": "https://localhost:8080/",
     "height": 487
    },
    "id": "c6IxqxpuqsWb",
    "outputId": "058a2d52-5d1f-4ce6-c6b4-8326dfc17bdb"
   },
   "outputs": [
    {
     "data": {
      "image/png": "[encoded data removed]",
      "text/plain": [
       "<Figure size 1400x500 with 1 Axes>"
      ]
     },
     "metadata": {},
     "output_type": "display_data"
    }
   ],
   "source": [
    "plt.figure(figsize=(14,5))\n",
    "plt.bar(frequent_words,word_freq,color='green')\n",
    "plt.title('Most Positive words for Phonepe')\n",
    "plt.xlabel('Positive word')\n",
    "plt.ylabel('Frequency')\n",
    "plt.xlim(-0.5, 15)\n",
    "plt.show()"
   ]
  },
  {
   "cell_type": "code",
   "execution_count": 314,
   "metadata": {
    "id": "ARS58qLhqsWc"
   },
   "outputs": [],
   "source": [
    "words = []\n",
    "special_characters=['@','#','$','*','&',',','.','(',')','!']\n",
    "phonepe_mosthelpful1 = phonepe_mosthelpful[(phonepe_mosthelpful['score']==1)|(phonepe_mosthelpful['score']==2)]\n",
    "for review in phonepe_mosthelpful1['content']:\n",
    "    for word in re.split(r'[ .,]+', review):\n",
    "        for i in special_characters:\n",
    "          word=word.replace(i,\"\")\n",
    "          if word.lower() not in stopwords:\n",
    "            word = word.lower()\n",
    "            words.append(word)\n"
   ]
  },
  {
   "cell_type": "code",
   "execution_count": 315,
   "metadata": {
    "id": "pQPXiVDZqsWd"
   },
   "outputs": [],
   "source": [
    "word_counts = Counter(words)"
   ]
  },
  {
   "cell_type": "code",
   "execution_count": 316,
   "metadata": {
    "id": "yiCk0bwhqsWe"
   },
   "outputs": [],
   "source": [
    "frequent_words = [word for word, count in word_counts.most_common()]\n",
    "word_freq = [count for word, count in word_counts.most_common()]"
   ]
  },
  {
   "cell_type": "code",
   "execution_count": 317,
   "metadata": {
    "colab": {
     "base_uri": "https://localhost:8080/",
     "height": 487
    },
    "id": "4KBoEJLzqsWf",
    "outputId": "04894194-f83b-4ad7-ad33-ec9a2c00f4c7"
   },
   "outputs": [
    {
     "data": {
      "image/png": "[encoded data removed]",
      "text/plain": [
       "<Figure size 1400x500 with 1 Axes>"
      ]
     },
     "metadata": {},
     "output_type": "display_data"
    }
   ],
   "source": [
    "plt.figure(figsize=(14,5))\n",
    "plt.bar(frequent_words,word_freq,color='red')\n",
    "plt.title('Most Negative words for Phonepe')\n",
    "plt.xlabel('negative word')\n",
    "plt.ylabel('Frequency')\n",
    "plt.xlim(-0.5, 15)\n",
    "plt.show()"
   ]
  },
  {
   "cell_type": "markdown",
   "metadata": {
    "id": "-KfCLphNk4z5"
   },
   "source": [
    "## Relationship Between Scores and Reply Given By Management"
   ]
  },
  {
   "cell_type": "code",
   "execution_count": 318,
   "metadata": {
    "id": "6ZLV6w-7lBFu"
   },
   "outputs": [],
   "source": [
    "google_data[\"replyContent\"] = google_data[\"replyContent\"].fillna(\"No_reply\")\n",
    "paytm_data[\"replyContent\"] = paytm_data[\"replyContent\"].fillna(\"No_reply\")\n",
    "phonepe_data[\"replyContent\"] = phonepe_data[\"replyContent\"].fillna(\"No_reply\")"
   ]
  },
  {
   "cell_type": "code",
   "execution_count": 319,
   "metadata": {
    "colab": {
     "base_uri": "https://localhost:8080/",
     "height": 564
    },
    "id": "EsAfZ2kOlxRZ",
    "outputId": "305583f3-4634-461c-b2f0-cc0cd8de1603"
   },
   "outputs": [
    {
     "data": {
      "image/png": "[encoded data removed]",
      "text/plain": [
       "<Figure size 1500x600 with 1 Axes>"
      ]
     },
     "metadata": {},
     "output_type": "display_data"
    }
   ],
   "source": [
    "google_data[\"reply_given\"] = google_data[\"replyContent\"].apply(lambda x: \"reply Given\" if x != 'No_reply' else \"No Reply\")\n",
    "plt.figure(figsize=(15,6))\n",
    "sns.countplot(x=\"score\", hue=\"reply_given\", data=google_data)\n",
    "plt.title('Bar Plot To get relationship Between Scores and Reply Given By Management (GPay)')\n",
    "plt.show()"
   ]
  },
  {
   "cell_type": "code",
   "execution_count": 320,
   "metadata": {
    "colab": {
     "base_uri": "https://localhost:8080/",
     "height": 564
    },
    "id": "fUe_otk0mwHy",
    "outputId": "0f88458c-6678-42ed-f87a-af6a2bc87d03"
   },
   "outputs": [
    {
     "data": {
      "image/png": "[encoded data removed]",
      "text/plain": [
       "<Figure size 1500x600 with 1 Axes>"
      ]
     },
     "metadata": {},
     "output_type": "display_data"
    }
   ],
   "source": [
    "paytm_data[\"reply_given\"] = google_data[\"replyContent\"].apply(lambda x: \"reply Given\" if x != 'No_reply' else \"No Reply\")\n",
    "plt.figure(figsize=(15,6))\n",
    "sns.countplot(x=\"score\", hue=\"reply_given\", data=paytm_data)\n",
    "plt.title('Bar Plot To get relationship Between Scores and Reply Given By Management (PayTM)')\n",
    "plt.show()"
   ]
  },
  {
   "cell_type": "code",
   "execution_count": 321,
   "metadata": {
    "colab": {
     "base_uri": "https://localhost:8080/",
     "height": 564
    },
    "id": "1hJQrJzzm7Eg",
    "outputId": "1c9523f6-bbfd-46da-f17f-ef3ac0cf7760"
   },
   "outputs": [
    {
     "data": {
      "image/png": "[encoded data removed]",
      "text/plain": [
       "<Figure size 1500x600 with 1 Axes>"
      ]
     },
     "metadata": {},
     "output_type": "display_data"
    }
   ],
   "source": [
    "phonepe_data[\"reply_given\"] = google_data[\"replyContent\"].apply(lambda x: \"reply Given\" if x != 'No_reply' else \"No Reply\")\n",
    "plt.figure(figsize=(15,6))\n",
    "sns.countplot(x=\"score\", hue=\"reply_given\", data=phonepe_data)\n",
    "plt.title('Bar Plot To get relationship Between Scores and Reply Given By Management (PhonePe)')\n",
    "plt.show()"
   ]
  },
  {
   "cell_type": "markdown",
   "metadata": {
    "id": "CYXAJjpOtd-z"
   },
   "source": [
    "# Relationship between scores and thumbsup count"
   ]
  },
  {
   "cell_type": "code",
   "execution_count": 322,
   "metadata": {
    "colab": {
     "base_uri": "https://localhost:8080/",
     "height": 564
    },
    "id": "nYU9IhFbUOFt",
    "outputId": "4e499208-8f97-408b-9043-4dc57f62587d"
   },
   "outputs": [
    {
     "data": {
      "image/png": "[encoded data removed]",
      "text/plain": [
       "<Figure size 1500x600 with 1 Axes>"
      ]
     },
     "metadata": {},
     "output_type": "display_data"
    }
   ],
   "source": [
    "plt.figure(figsize=(15,6))\n",
    "sns.barplot(x=\"score\", y=\"thumbsUpCount\", data=google_data)\n",
    "plt.title('Bar Plot To get relationship Between Scores and ThumbsUpCount')\n",
    "plt.show()"
   ]
  },
  {
   "cell_type": "code",
   "execution_count": 323,
   "metadata": {
    "colab": {
     "base_uri": "https://localhost:8080/",
     "height": 564
    },
    "id": "Xrkd8s5KUpCU",
    "outputId": "8b50862a-8f42-4f0f-cd69-fe54388048ad"
   },
   "outputs": [
    {
     "data": {
      "image/png": "[encoded data removed]",
      "text/plain": [
       "<Figure size 1500x600 with 1 Axes>"
      ]
     },
     "metadata": {},
     "output_type": "display_data"
    }
   ],
   "source": [
    "plt.figure(figsize=(15,6))\n",
    "sns.barplot(x=\"score\", y=\"thumbsUpCount\", data=paytm_data)\n",
    "plt.title('Bar Plot To get relationship Between Scores and ThumbsUpCount')\n",
    "plt.show()"
   ]
  },
  {
   "cell_type": "code",
   "execution_count": 324,
   "metadata": {
    "colab": {
     "base_uri": "https://localhost:8080/",
     "height": 564
    },
    "id": "BRfmJjMDUpys",
    "outputId": "6d13041f-b2b7-426a-9e74-141d79319d6e"
   },
   "outputs": [
    {
     "data": {
      "image/png": "[encoded data removed]",
      "text/plain": [
       "<Figure size 1500x600 with 1 Axes>"
      ]
     },
     "metadata": {},
     "output_type": "display_data"
    }
   ],
   "source": [
    "plt.figure(figsize=(15,6))\n",
    "sns.barplot(x=\"score\", y=\"thumbsUpCount\", data=phonepe_data)\n",
    "plt.title('Bar Plot To get relationship Between Scores and ThumbsUpCount')\n",
    "plt.show()"
   ]
  },
  {
   "cell_type": "markdown",
   "metadata": {
    "id": "idMMIXN8w3vI"
   },
   "source": [
    "# EDA on combined data"
   ]
  },
  {
   "cell_type": "code",
   "execution_count": 325,
   "metadata": {
    "id": "4nJHLI3yw_Wq"
   },
   "outputs": [],
   "source": [
    "google_data[\"upi_app\"] = \"GPay\"\n",
    "paytm_data[\"upi_app\"] = \"Paytm\"\n",
    "phonepe_data[\"upi_app\"] = \"PhonePe\""
   ]
  },
  {
   "cell_type": "code",
   "execution_count": 326,
   "metadata": {
    "id": "4asDEMDKxOC2"
   },
   "outputs": [],
   "source": [
    "combineddata = pd.concat([google_data,paytm_data,phonepe_data],ignore_index=True)"
   ]
  },
  {
   "cell_type": "code",
   "execution_count": 327,
   "metadata": {
    "colab": {
     "base_uri": "https://localhost:8080/",
     "height": 564
    },
    "id": "bvyTc-y21DXc",
    "outputId": "1fd39b84-a68d-4c2e-bbaf-4770f2860967"
   },
   "outputs": [
    {
     "data": {
      "image/png": "[encoded data removed]",
      "text/plain": [
       "<Figure size 1500x600 with 1 Axes>"
      ]
     },
     "metadata": {},
     "output_type": "display_data"
    }
   ],
   "source": [
    "plt.figure(figsize=(15,6))\n",
    "sns.countplot(x=\"score\", hue=\"upi_app\", data=combineddata)\n",
    "plt.xlabel('Stars')\n",
    "plt.ylabel('No. of reviews')\n",
    "plt.title('Bar Plot To Show which Company has maximum number of reviews in all category')\n",
    "plt.show()"
   ]
  },
  {
   "cell_type": "code",
   "execution_count": 328,
   "metadata": {
    "colab": {
     "base_uri": "https://localhost:8080/",
     "height": 450
    },
    "id": "lWrz8iiV164b",
    "outputId": "b5e7561e-0772-45e2-9ee3-0b52bbb8cea6"
   },
   "outputs": [
    {
     "data": {
      "image/png": "[encoded data removed]",
      "text/plain": [
       "<Figure size 640x480 with 1 Axes>"
      ]
     },
     "metadata": {},
     "output_type": "display_data"
    }
   ],
   "source": [
    "no_replies = combineddata[combineddata['replyContent'] == 'No_reply'].groupby('upi_app')['replyContent'].count()\n",
    "total_replies = combineddata.groupby('upi_app')['replyContent'].count()\n",
    "percentages = (no_replies / total_replies) * 100\n",
    "\n",
    "\n",
    "sns.barplot(x=percentages.index, y=percentages)\n",
    "plt.ylabel('Percentage of No Reply by Management')\n",
    "plt.show()"
   ]
  }
 ],
 "metadata": {
  "colab": {
   "collapsed_sections": [
    "y0Z3hrYPodwy",
    "DwzDU55UqsWB"
   ],
   "provenance": []
  },
  "kernelspec": {
   "display_name": "Python 3 (ipykernel)",
   "language": "python",
   "name": "python3"
  },
  "language_info": {
   "codemirror_mode": {
    "name": "ipython",
    "version": 3
   },
   "file_extension": ".py",
   "mimetype": "text/x-python",
   "name": "python",
   "nbconvert_exporter": "python",
   "pygments_lexer": "ipython3",
   "version": "3.10.10"
  }
 },
 "nbformat": 4,
 "nbformat_minor": 1
}
